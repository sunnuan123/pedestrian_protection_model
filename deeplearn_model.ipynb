{
 "cells": [
  {
   "cell_type": "code",
   "execution_count": 19,
   "id": "a017ae54",
   "metadata": {},
   "outputs": [],
   "source": [
    "# -*- coding: utf-8 -*-\n",
    "import random\n",
    "import torch\n",
    "import math\n",
    "import torch.nn.functional as F\n",
    "import pandas as pd\n",
    "from torch.utils.data import Dataset\n",
    "import matplotlib.pyplot as plt\n",
    "from sklearn.impute import SimpleImputer\n",
    "from sklearn.feature_selection import VarianceThreshold\n",
    "from sklearn.preprocessing import MinMaxScaler, StandardScaler\n",
    "from sklearn.model_selection import train_test_split, KFold,GridSearchCV"
   ]
  },
  {
   "cell_type": "code",
   "execution_count": null,
   "id": "53d03e1c",
   "metadata": {},
   "outputs": [],
   "source": []
  },
  {
   "cell_type": "markdown",
   "id": "a67503e9",
   "metadata": {},
   "source": [
    "# 获取数据"
   ]
  },
  {
   "cell_type": "code",
   "execution_count": 2,
   "id": "a61f314b",
   "metadata": {},
   "outputs": [],
   "source": [
    "def getData():\n",
    "    data1 = pd.read_csv('./data/data_1110.csv', na_values={'dist_out_in':0,'dist_out_mid':0,'dist_mid_in':0,'dist_in_hard':0})\n",
    "    data2 = pd.read_csv('./data/data_1205.csv',na_values={'dist_out_in':0,'dist_out_mid':0,'dist_mid_in':0,'dist_in_hard':0})\n",
    "    raw_data = pd.concat([data1,data2], axis=0).iloc[:,1:].reset_index(drop=True)\n",
    "    return raw_data.iloc[:,:-1], raw_data['HIC15']"
   ]
  },
  {
   "cell_type": "code",
   "execution_count": 3,
   "id": "a8a1a195",
   "metadata": {},
   "outputs": [],
   "source": [
    "raw_data, raw_label = getData()"
   ]
  },
  {
   "cell_type": "code",
   "execution_count": 4,
   "id": "ab00de7b",
   "metadata": {},
   "outputs": [
    {
     "data": {
      "text/plain": [
       "(357, 58)"
      ]
     },
     "execution_count": 4,
     "metadata": {},
     "output_type": "execute_result"
    }
   ],
   "source": [
    "raw_data.shape"
   ]
  },
  {
   "cell_type": "markdown",
   "id": "ce76be96",
   "metadata": {},
   "source": [
    "# 异常值检测"
   ]
  },
  {
   "cell_type": "code",
   "execution_count": 12,
   "id": "270beea8",
   "metadata": {},
   "outputs": [],
   "source": [
    "def imputerVar(data, label, threshold=1):\n",
    "    '''缺失处理和方差筛选'''\n",
    "    data = pd.DataFrame(SimpleImputer().fit_transform(data),columns=data.columns)\n",
    "    varModel = VarianceThreshold(threshold=threshold).fit(data)\n",
    "#     print(data.shape)\n",
    "    print(set(varModel.feature_names_in_)-set(varModel.get_feature_names_out()))\n",
    "    data = varModel.transform(data)\n",
    "    data = pd.DataFrame(data, columns=varModel.get_feature_names_out())\n",
    "    return data, label"
   ]
  },
  {
   "cell_type": "code",
   "execution_count": 13,
   "id": "6ecd6cd3",
   "metadata": {},
   "outputs": [
    {
     "name": "stdout",
     "output_type": "stream",
     "text": [
      "{'delta_in', 'T_out', 'Y_S_out', 'delta_mid_R', 'T_S_out', 'T_in', 'T_mid_F', 'Y_S_mid_R', 'JL_Y', 'Y_S_mid_F', 'JL_X', 'delta_out', 'Y_S_in', 'T_S_mid_F', 'T_mid_R', 'head_V', 'JR_X', 'JR_Z', 'delta_mid_F', 'T_S_mid_R', 'T_S_in', 'JR_Y'}\n"
     ]
    }
   ],
   "source": [
    "data, label = imputerVar(raw_data, raw_label, 0)"
   ]
  },
  {
   "cell_type": "markdown",
   "id": "f6f07702",
   "metadata": {},
   "source": [
    "# 数据标准化与拆分"
   ]
  },
  {
   "cell_type": "code",
   "execution_count": 18,
   "id": "6429c968",
   "metadata": {},
   "outputs": [],
   "source": [
    "def stdSplitData(data, label):\n",
    "    '''数据标准化，然后拆分数据集'''\n",
    "    data = pd.DataFrame(StandardScaler().fit_transform(data), columns=data.columns)\n",
    "    x_train,x_test,y_train,y_test = train_test_split(data,label,test_size=0.1,random_state=420)\n",
    "    return x_train,x_test,y_train,y_test\n",
    "xTrain,xTest,yTrain,yTest = stdSplitData(data, label)"
   ]
  },
  {
   "cell_type": "markdown",
   "id": "0d58e6f4",
   "metadata": {},
   "source": [
    "# Custom Dataset"
   ]
  },
  {
   "cell_type": "code",
   "execution_count": null,
   "id": "47d55ddb",
   "metadata": {},
   "outputs": [],
   "source": [
    "class CustomDataset(Dataset):\n",
    "    '''自定义数据集，符合标准'''\n",
    "    def __init__(self, ):\n",
    "        \n",
    "    \n",
    "    \n",
    "    \n",
    "    \n",
    "    \n",
    "    "
   ]
  },
  {
   "cell_type": "code",
   "execution_count": null,
   "id": "8a7297fd",
   "metadata": {},
   "outputs": [],
   "source": []
  },
  {
   "cell_type": "code",
   "execution_count": null,
   "id": "7444d8c9",
   "metadata": {},
   "outputs": [],
   "source": []
  },
  {
   "cell_type": "code",
   "execution_count": null,
   "id": "d4be95a7",
   "metadata": {},
   "outputs": [],
   "source": []
  },
  {
   "cell_type": "code",
   "execution_count": null,
   "id": "6d045ab5",
   "metadata": {},
   "outputs": [],
   "source": []
  },
  {
   "cell_type": "code",
   "execution_count": null,
   "id": "abd0ce49",
   "metadata": {},
   "outputs": [],
   "source": []
  },
  {
   "cell_type": "code",
   "execution_count": null,
   "id": "b859f9d7",
   "metadata": {},
   "outputs": [],
   "source": []
  },
  {
   "cell_type": "code",
   "execution_count": null,
   "id": "2c3603a1",
   "metadata": {},
   "outputs": [],
   "source": []
  },
  {
   "cell_type": "code",
   "execution_count": null,
   "id": "edd00a39",
   "metadata": {},
   "outputs": [],
   "source": []
  },
  {
   "cell_type": "code",
   "execution_count": null,
   "id": "a82bfb92",
   "metadata": {},
   "outputs": [],
   "source": []
  },
  {
   "cell_type": "code",
   "execution_count": null,
   "id": "fe6c6c6b",
   "metadata": {},
   "outputs": [],
   "source": []
  },
  {
   "cell_type": "code",
   "execution_count": 18,
   "id": "c7414765",
   "metadata": {},
   "outputs": [],
   "source": [
    "input_size = 1\n",
    "hidden_size = 128\n",
    "output_size = 1\n",
    "batch_size = 16"
   ]
  },
  {
   "cell_type": "code",
   "execution_count": 19,
   "id": "3e7978b0",
   "metadata": {},
   "outputs": [],
   "source": [
    "class DynamicNet(torch.nn.Module):\n",
    "    def __init__(self):\n",
    "        \"\"\"\n",
    "        In the constructor we instantiate five parameters and assign them as members.\n",
    "        \"\"\"\n",
    "        super().__init__()\n",
    "        # 第一层: 全连接层\n",
    "        self.fc1 = torch.nn.Linear(input_size, hidden_size)\n",
    "        # 第二层: 全连接层\n",
    "        self.fc2 = torch.nn.Linear(hidden_size, output_size)\n",
    "        self.e = torch.nn.Parameter(torch.randn(()))\n",
    "    def forward(self, x):\n",
    "        \"\"\"\n",
    "        For the forward pass of the model, we randomly choose either 4, 5\n",
    "        and reuse the e parameter to compute the contribution of these orders.\n",
    "\n",
    "        Since each forward pass builds a dynamic computation graph, we can use normal\n",
    "        Python control-flow operators like loops or conditional statements when\n",
    "        defining the forward pass of the model.\n",
    "\n",
    "        Here we also see that it is perfectly safe to reuse the same parameter many\n",
    "        times when defining a computational graph.\n",
    "        \"\"\"\n",
    "        y = F.sigmoid(self.fc1(x))\n",
    "        y = self.fc2(y)\n",
    "        for exp in range(2, random.randint(2, 4)):\n",
    "            y = y + self.e * x ** exp\n",
    "        return y\n",
    "\n",
    "    def string(self):\n",
    "        \"\"\"\n",
    "        Just like any class in Python, you can also define custom method on PyTorch modules\n",
    "        \"\"\"\n",
    "        return f'{self.e.item()} x^2 ? + {self.e.item()} x^3 ?'"
   ]
  },
  {
   "cell_type": "code",
   "execution_count": null,
   "id": "63afcdea",
   "metadata": {},
   "outputs": [],
   "source": []
  },
  {
   "cell_type": "code",
   "execution_count": null,
   "id": "81ec4c33",
   "metadata": {},
   "outputs": [],
   "source": []
  },
  {
   "cell_type": "markdown",
   "id": "c81675bc",
   "metadata": {},
   "source": [
    "# 数据"
   ]
  },
  {
   "cell_type": "code",
   "execution_count": null,
   "id": "9520522f",
   "metadata": {},
   "outputs": [],
   "source": [
    "def prepareData():\n",
    "    # 导入数据, (110, 10) (110,)\n",
    "    x_train, x_test, y_train, y_test = train_test_split(x, y, test_size = 0.1, random_state = 42)\n",
    "    # 数据标准化处理\n",
    "    x_train_t = torch.from_numpy(x_train.astype(np.float32))\n",
    "    y_train_t = torch.from_numpy(y_train.astype(np.float32))\n",
    "    x_test_t = torch.from_numpy(x_test.astype(np.float32))\n",
    "    y_test_t = torch.from_numpy(y_test.astype(np.float32))\n",
    "\n",
    "    train_data = Data.TensorDataset(X_train_t, y_train_t)\n",
    "    test_data = Data.TensorDataset(X_test_t, y_test_t)\n",
    "    train_loader = Data.DataLoader(dataset = train_data, batch_size = 8, shuffle = True, num_workers = 1)\n",
    "    return train_loader"
   ]
  },
  {
   "cell_type": "code",
   "execution_count": 27,
   "id": "8dda61a0",
   "metadata": {},
   "outputs": [],
   "source": []
  },
  {
   "cell_type": "code",
   "execution_count": null,
   "id": "4103ebf8",
   "metadata": {},
   "outputs": [],
   "source": [
    "def validate(net):\n",
    "    net.eval()\n",
    "    with torch.no_grad():\n",
    "        y_pre = net(X_test_t)\n",
    "        y_pre = y_pre.data.cpu().numpy()\n",
    "        mse = mean_squared_error(y_test, y_pre)\n",
    "    return mse"
   ]
  },
  {
   "cell_type": "code",
   "execution_count": 26,
   "id": "21537f05",
   "metadata": {},
   "outputs": [
    {
     "name": "stdout",
     "output_type": "stream",
     "text": [
      "1999 0.6851100325584412\n",
      "3999 0.6805182099342346\n",
      "5999 0.8272582292556763\n",
      "7999 0.6900101900100708\n",
      "9999 0.6829481720924377\n",
      "11999 0.6630676984786987\n",
      "13999 0.6687527894973755\n",
      "15999 0.6622170209884644\n",
      "17999 0.7855096459388733\n",
      "19999 0.7789382338523865\n",
      "21999 0.6432156562805176\n",
      "23999 0.6370040774345398\n",
      "25999 0.6310117244720459\n",
      "27999 0.6252623200416565\n",
      "29999 0.748222291469574\n",
      "Result: 0.05724804475903511 x^2 ? + 0.05724804475903511 x^3 ?\n"
     ]
    }
   ],
   "source": [
    "def train():\n",
    "    # Construct our model by instantiating the class defined above\n",
    "    net = DynamicNet()\n",
    "    # Construct our loss function and an Optimizer. Training this strange model with\n",
    "    # vanilla stochastic gradient descent is tough, so we use momentum\n",
    "    criterion = torch.nn.MSELoss()\n",
    "    optimizer = torch.optim.SGD(model.parameters(), lr=1e-8, momentum=0.9)\n",
    "    # 对模型迭代训练，总共epoch轮\n",
    "    net.train()\n",
    "    for epoch in range(1000):\n",
    "        avg_loss = []\n",
    "        # 对训练数据的加载器进行迭代计算\n",
    "        for step, (x, y) in enumerate(train_loader):\n",
    "            output = net(x)\n",
    "            loss = loss_func(output, y)\n",
    "            optimizer.zero_grad()\n",
    "            loss.backward()\n",
    "            optimizer.step()\n",
    "            avg_loss.append(loss.item())\n",
    "        avg_loss = np.array(avg_loss).mean()\n",
    "        validate_loss = validate(net)\n",
    "        print(\"Epoch {}, train loss:{}, val loss:{}\".format(epoch, avg_loss, validate_loss))\n"
   ]
  },
  {
   "cell_type": "code",
   "execution_count": null,
   "id": "13934776",
   "metadata": {},
   "outputs": [],
   "source": [
    "class Linear_Model():\n",
    "    def __init__(self):\n",
    "        \"\"\"\n",
    "        Initialize the Linear Model\n",
    "        \"\"\"\n",
    "        self.learning_rate = 0.001\n",
    "        self.epoches = 10000\n",
    "        self.loss_function = torch.nn.MSELoss()\n",
    "        self.create_model()\n",
    "    def create_model(self):\n",
    "        self.model = DynamicNet()\n",
    "        self.optimizer = torch.optim.SGD(self.model.parameters(), lr=self.learning_rate)\n",
    "    \n",
    "    def train(self, data, model_save_path=\"model.pth\"):\n",
    "        \"\"\"\n",
    "        Train the model and save the parameters\n",
    "        Args:\n",
    "            model_save_path: saved name of model\n",
    "            data: (x, y) = data, and y = kx + b\n",
    "        Returns: \n",
    "            None\n",
    "        \"\"\"\n",
    "        x = data[\"x\"]\n",
    "        y = data[\"y\"]\n",
    "        for epoch in range(self.epoches):\n",
    "            prediction = self.model(x)\n",
    "            loss = self.loss_function(prediction, y)\n",
    "\n",
    "            self.optimizer.zero_grad()\n",
    "            loss.backward()\n",
    "            self.optimizer.step()\n",
    "\n",
    "            if epoch % 500 == 0:\n",
    "                print(\"epoch: {}, loss is: {}\".format(epoch, loss.item()))\n",
    "        torch.save(self.model.state_dict(), \"linear.pth\")\n",
    "      \n",
    "        \n",
    "    def test(self, x, model_path=\"linear.pth\"):\n",
    "        \"\"\"\n",
    "        Reload and test the model, plot the prediction\n",
    "        Args:\n",
    "            model_path: the model's path and name\n",
    "            data: (x, y) = data, and y = kx + b\n",
    "        Returns:\n",
    "            None\n",
    "        \"\"\"\n",
    "        x = data[\"x\"]\n",
    "        y = data[\"y\"]\n",
    "        self.model.load_state_dict(torch.load(model_path))\n",
    "        prediction = self.model(x)\n",
    "        \n",
    "        plt.scatter(x.numpy(), y.numpy(), c=x.numpy())\n",
    "        plt.plot(x.numpy(), prediction.detach().numpy(), color=\"r\")\n",
    "        plt.show()"
   ]
  },
  {
   "cell_type": "code",
   "execution_count": null,
   "id": "877a4d3a",
   "metadata": {},
   "outputs": [],
   "source": []
  },
  {
   "cell_type": "code",
   "execution_count": null,
   "id": "edd39a0e",
   "metadata": {},
   "outputs": [],
   "source": []
  },
  {
   "cell_type": "code",
   "execution_count": null,
   "id": "c7b12e25",
   "metadata": {},
   "outputs": [],
   "source": []
  },
  {
   "cell_type": "code",
   "execution_count": null,
   "id": "83dc0440",
   "metadata": {},
   "outputs": [],
   "source": []
  },
  {
   "cell_type": "code",
   "execution_count": null,
   "id": "eb744944",
   "metadata": {},
   "outputs": [],
   "source": []
  },
  {
   "cell_type": "markdown",
   "id": "64957467",
   "metadata": {},
   "source": [
    "# CNN"
   ]
  },
  {
   "cell_type": "code",
   "execution_count": null,
   "id": "a81a0b2c",
   "metadata": {},
   "outputs": [],
   "source": [
    "class Cnn(nn.Module):\n",
    "    def __init__(self, out_node):\n",
    "        super(Cnn, self).__init__()\n",
    "        self.conv = nn.Sequential(\n",
    "            nn.Conv2d(in_channels=1, out_channels=10, kernel_size=3, stride=1), #卷积层\n",
    "            # nn.ReLU(True),\n",
    "            nn.MaxPool2d(kernel_size=2, stride=1),#最大池化层\n",
    "            nn.Conv2d(in_channels=10, out_channels=10, kernel_size=3, stride=1),\n",
    "            # nn.ReLU(True),\n",
    "            nn.MaxPool2d(kernel_size=2, stride=1),\n",
    "            nn.Flatten() # 展平操作，为了与全连接层匹配\n",
    "        )\n",
    "        self.fc = nn.Sequential(\n",
    "            nn.Linear(3240, 200), #线性层\n",
    "            nn.ReLU(inplace=True), # relu激活函数\n",
    "            # nn.Dropout(),\n",
    "            nn.Linear(200, out_node),\n",
    "            nn.ReLU(inplace=True),\n",
    "        )\n",
    "\n",
    "    def forward(self, x):  #\n",
    "        out = self.conv(x)\n",
    "        print(out.shape)\n",
    "        # out = out.view(out.size(0), 10 * 25 * 25)\n",
    "        # print(out.shape)\n",
    "        out = self.fc(out)\n",
    "        # print(out.shape)\n",
    "        return out\n"
   ]
  },
  {
   "cell_type": "code",
   "execution_count": null,
   "id": "bb76b935",
   "metadata": {},
   "outputs": [],
   "source": []
  },
  {
   "cell_type": "code",
   "execution_count": null,
   "id": "d083a3d2",
   "metadata": {},
   "outputs": [],
   "source": []
  },
  {
   "cell_type": "code",
   "execution_count": null,
   "id": "17c35054",
   "metadata": {},
   "outputs": [],
   "source": []
  },
  {
   "cell_type": "code",
   "execution_count": null,
   "id": "f3cfe520",
   "metadata": {},
   "outputs": [],
   "source": []
  },
  {
   "cell_type": "code",
   "execution_count": null,
   "id": "6c0390f6",
   "metadata": {},
   "outputs": [],
   "source": []
  },
  {
   "cell_type": "code",
   "execution_count": null,
   "id": "cb064996",
   "metadata": {},
   "outputs": [],
   "source": []
  },
  {
   "cell_type": "code",
   "execution_count": null,
   "id": "8bd274b7",
   "metadata": {},
   "outputs": [],
   "source": []
  },
  {
   "cell_type": "code",
   "execution_count": null,
   "id": "05a04780",
   "metadata": {},
   "outputs": [],
   "source": []
  },
  {
   "cell_type": "code",
   "execution_count": null,
   "id": "7af28a00",
   "metadata": {},
   "outputs": [],
   "source": []
  },
  {
   "cell_type": "code",
   "execution_count": null,
   "id": "1ab5e7be",
   "metadata": {},
   "outputs": [],
   "source": []
  },
  {
   "cell_type": "code",
   "execution_count": null,
   "id": "cbb11bd8",
   "metadata": {},
   "outputs": [],
   "source": []
  },
  {
   "cell_type": "code",
   "execution_count": null,
   "id": "7c77507c",
   "metadata": {},
   "outputs": [],
   "source": []
  },
  {
   "cell_type": "code",
   "execution_count": null,
   "id": "954ad6b2",
   "metadata": {},
   "outputs": [],
   "source": []
  },
  {
   "cell_type": "code",
   "execution_count": null,
   "id": "2b477384",
   "metadata": {},
   "outputs": [],
   "source": []
  },
  {
   "cell_type": "code",
   "execution_count": null,
   "id": "0aedea7b",
   "metadata": {},
   "outputs": [],
   "source": []
  },
  {
   "cell_type": "code",
   "execution_count": null,
   "id": "1cfac952",
   "metadata": {},
   "outputs": [],
   "source": []
  },
  {
   "cell_type": "code",
   "execution_count": null,
   "id": "3916cf28",
   "metadata": {},
   "outputs": [],
   "source": []
  },
  {
   "cell_type": "code",
   "execution_count": null,
   "id": "4abcd375",
   "metadata": {},
   "outputs": [],
   "source": []
  },
  {
   "cell_type": "code",
   "execution_count": null,
   "id": "b63fb385",
   "metadata": {},
   "outputs": [],
   "source": []
  },
  {
   "cell_type": "code",
   "execution_count": null,
   "id": "dd029e6a",
   "metadata": {},
   "outputs": [],
   "source": []
  },
  {
   "cell_type": "code",
   "execution_count": null,
   "id": "45b2a7ef",
   "metadata": {},
   "outputs": [],
   "source": []
  },
  {
   "cell_type": "code",
   "execution_count": null,
   "id": "89e123ea",
   "metadata": {},
   "outputs": [],
   "source": []
  },
  {
   "cell_type": "code",
   "execution_count": null,
   "id": "a374e635",
   "metadata": {},
   "outputs": [],
   "source": []
  },
  {
   "cell_type": "code",
   "execution_count": null,
   "id": "0d5674c6",
   "metadata": {},
   "outputs": [],
   "source": []
  },
  {
   "cell_type": "code",
   "execution_count": null,
   "id": "8d5e0fef",
   "metadata": {},
   "outputs": [],
   "source": []
  },
  {
   "cell_type": "code",
   "execution_count": null,
   "id": "8acecca1",
   "metadata": {},
   "outputs": [],
   "source": []
  },
  {
   "cell_type": "code",
   "execution_count": null,
   "id": "f68aef76",
   "metadata": {},
   "outputs": [],
   "source": []
  },
  {
   "cell_type": "code",
   "execution_count": null,
   "id": "26250caf",
   "metadata": {},
   "outputs": [],
   "source": []
  }
 ],
 "metadata": {
  "kernelspec": {
   "display_name": "Python 3 (ipykernel)",
   "language": "python",
   "name": "python3"
  },
  "language_info": {
   "codemirror_mode": {
    "name": "ipython",
    "version": 3
   },
   "file_extension": ".py",
   "mimetype": "text/x-python",
   "name": "python",
   "nbconvert_exporter": "python",
   "pygments_lexer": "ipython3",
   "version": "3.11.5"
  }
 },
 "nbformat": 4,
 "nbformat_minor": 5
}
