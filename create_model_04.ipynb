{
 "cells": [
  {
   "cell_type": "code",
   "execution_count": 1,
   "id": "9f300c6c",
   "metadata": {
    "pycharm": {
     "name": "#%%\n"
    }
   },
   "outputs": [],
   "source": [
    "import joblib\n",
    "import copy\n",
    "from collections import Counter\n",
    "import pandas as pd\n",
    "import numpy as np\n",
    "import os\n",
    "import pickle\n",
    "from xgboost import XGBRegressor\n",
    "from catboost import Pool, CatBoostRegressor\n",
    "from smt.surrogate_models import RBF,KRG,LS\n",
    "from sklearn.feature_selection import f_regression\n",
    "from sklearn.impute import SimpleImputer\n",
    "from sklearn.preprocessing import StandardScaler\n",
    "from sklearn.ensemble import RandomForestRegressor\n",
    "from sklearn import svm\n",
    "from sklearn.pipeline import make_pipeline\n",
    "from sklearn.feature_selection import SelectKBest\n",
    "from sklearn.metrics import mean_squared_error, r2_score,mean_absolute_error\n",
    "import matplotlib.pyplot as plt\n",
    "from sklearn.linear_model import LinearRegression\n",
    "from sklearn.gaussian_process import GaussianProcessRegressor\n",
    "from sklearn.gaussian_process.kernels import DotProduct, WhiteKernel, Matern\n",
    "from sklearn.gaussian_process import kernels\n",
    "from sklearn.ensemble import IsolationForest\n",
    "from sklearn.model_selection import train_test_split, KFold,GridSearchCV\n",
    "from sklearn import preprocessing\n",
    "from sklearn.feature_selection import VarianceThreshold\n",
    "from sklearn.pipeline import make_pipeline\n",
    "from sklearn.preprocessing import PolynomialFeatures\n",
    "from sklearn.pipeline import Pipeline\n",
    "from sklearn.model_selection import learning_curve\n",
    "from sklearn.model_selection import GridSearchCV\n",
    "from sklearn.svm import SVR,NuSVR\n",
    "from sklearn.gaussian_process import GaussianProcessRegressor\n",
    "from sklearn.gaussian_process.kernels import DotProduct, WhiteKernel\n",
    "from sklearn.preprocessing import MinMaxScaler, StandardScaler\n",
    "from sklearn.metrics import mean_squared_error, r2_score\n",
    "from sklearn.model_selection import KFold, cross_val_score, train_test_split\n",
    "from sklearn.linear_model import LinearRegression\n",
    "from sklearn.ensemble import RandomForestRegressor\n",
    "from sklearn.tree import DecisionTreeRegressor\n",
    "import plotly.colors as colors\n",
    "import plotly.express as px\n",
    "from plotly.subplots import make_subplots\n",
    "from pymoo.algorithms.soo.nonconvex.cmaes import CMAES\n",
    "from pymoo.termination import get_termination\n",
    "from pymoo.algorithms.soo.nonconvex.ga import GA\n",
    "from pymoo.core.problem import Problem\n",
    "from pymoo.optimize import minimize\n",
    "from pymoo.util.normalization import denormalize\n",
    "from pymoo.visualization.scatter import Scatter\n",
    "from smt.surrogate_models import RBF,KRG,LS\n",
    "from scipy.interpolate import RBFInterpolator\n",
    "# from smt.surrogate_models.rbf import RBF\n",
    "from pymoo.algorithms.moo.nsga2 import NSGA2\n",
    "from pymoo.operators.crossover.sbx import SBX\n",
    "from pymoo.operators.mutation.pm import PM\n",
    "from pymoo.operators.sampling.rnd import FloatRandomSampling\n",
    "from pymoo.algorithms.soo.nonconvex.de import DE\n",
    "from pymoo.problems import get_problem\n",
    "from pymoo.operators.sampling.lhs import LHS\n",
    "from pymoo.optimize import minimize\n",
    "from pymoo.algorithms.soo.nonconvex.isres import ISRES\n",
    "import warnings\n",
    "import joblib\n",
    "import seaborn as sns\n",
    "warnings.filterwarnings(\"ignore\")\n",
    "np.set_printoptions(suppress = True)"
   ]
  },
  {
   "cell_type": "code",
   "execution_count": 2,
   "id": "89b6d621",
   "metadata": {
    "pycharm": {
     "name": "#%%\n"
    }
   },
   "outputs": [],
   "source": [
    "def getData():\n",
    "    '''读取数据'''\n",
    "    data1 = pd.read_csv('./data/data_1110.csv', na_values={'dist_out_in':0,'dist_out_mid':0,'dist_mid_in':0,'dist_in_hard':0})\n",
    "    data2 = pd.read_csv('./data/data_1205.csv',na_values={'dist_out_in':0,'dist_out_mid':0,'dist_mid_in':0,'dist_in_hard':0})\n",
    "    \n",
    "    data = pd.concat([data1,data2], axis=0).iloc[:,1:]\n",
    "    \n",
    "    data['flag'] = ['F3' for i in range(data.shape[0])]\n",
    "    pdata = pd.read_csv('./data/data_0104.csv', na_values={'dist_out_in':-1,'dist_out_mid':-1,'dist_mid_in':-1,'dist_in_hard':-1}).iloc[:,1:]\n",
    "    pdata['flag'] = ['F2' for i in range(pdata.shape[0])]\n",
    "    rawData = pd.concat([data, pdata], axis=0).iloc[:,:].reset_index(drop=True)\n",
    "    return rawData.iloc[:,:-2], rawData['HIC15'], rawData['flag']"
   ]
  },
  {
   "cell_type": "code",
   "execution_count": 3,
   "id": "f5d6008f",
   "metadata": {
    "pycharm": {
     "name": "#%%\n"
    }
   },
   "outputs": [],
   "source": [
    "rawData, rawLabel, rawFlag = getData()"
   ]
  },
  {
   "cell_type": "code",
   "execution_count": 5,
   "id": "821e8c36",
   "metadata": {
    "pycharm": {
     "name": "#%%\n"
    }
   },
   "outputs": [
    {
     "data": {
      "text/plain": [
       "(537, 58)"
      ]
     },
     "execution_count": 5,
     "metadata": {},
     "output_type": "execute_result"
    }
   ],
   "source": [
    "rawData.shape"
   ]
  },
  {
   "cell_type": "markdown",
   "id": "955cff6b",
   "metadata": {
    "pycharm": {
     "name": "#%% md\n"
    }
   },
   "source": [
    "# 数据预处理"
   ]
  },
  {
   "cell_type": "markdown",
   "id": "7c961c8e",
   "metadata": {
    "pycharm": {
     "name": "#%% md\n"
    }
   },
   "source": [
    "## 删除缺失率大于80%的数据列"
   ]
  },
  {
   "cell_type": "code",
   "execution_count": null,
   "id": "b98771c2",
   "metadata": {
    "pycharm": {
     "name": "#%%\n"
    }
   },
   "outputs": [],
   "source": []
  },
  {
   "cell_type": "code",
   "execution_count": 6,
   "id": "8b4392c1",
   "metadata": {
    "pycharm": {
     "name": "#%%\n"
    }
   },
   "outputs": [
    {
     "data": {
      "text/plain": [
       "dist_mid_in     0.830540\n",
       "dist_out_mid    0.826816\n",
       "dist_in_hard    0.329609\n",
       "dist_out_in     0.214153\n",
       "T_out           0.000000\n",
       "dtype: float64"
      ]
     },
     "execution_count": 6,
     "metadata": {},
     "output_type": "execute_result"
    }
   ],
   "source": [
    "(rawData.isnull().sum()/rawData.shape[0]).sort_values(ascending=False)[:5]"
   ]
  },
  {
   "cell_type": "code",
   "execution_count": 7,
   "id": "6177b1bb",
   "metadata": {
    "pycharm": {
     "name": "#%%\n"
    }
   },
   "outputs": [],
   "source": [
    "rawData.drop(columns=['dist_mid_in','dist_out_mid'], inplace=True)"
   ]
  },
  {
   "cell_type": "code",
   "execution_count": 8,
   "id": "02959cb8",
   "metadata": {
    "pycharm": {
     "name": "#%%\n"
    }
   },
   "outputs": [
    {
     "data": {
      "text/plain": [
       "(537, 56)"
      ]
     },
     "execution_count": 8,
     "metadata": {},
     "output_type": "execute_result"
    }
   ],
   "source": [
    "rawData.shape"
   ]
  },
  {
   "cell_type": "markdown",
   "id": "cf8e69ab",
   "metadata": {
    "pycharm": {
     "name": "#%% md\n"
    }
   },
   "source": [
    "## 均值填充缺失处理和方差筛选"
   ]
  },
  {
   "cell_type": "code",
   "execution_count": 9,
   "id": "ccac6d35",
   "metadata": {
    "pycharm": {
     "name": "#%%\n"
    }
   },
   "outputs": [],
   "source": [
    "def imputerVar(data, threshold=1):\n",
    "    '''缺失处理和方差筛选'''\n",
    "    simpleImputer = SimpleImputer().fit(data)\n",
    "    joblib.dump(simpleImputer, './models/simpleImputer.pkl')\n",
    "    siData = simpleImputer.transform(data)\n",
    "    siData = pd.DataFrame(siData,columns=data.columns)\n",
    "    varModel = VarianceThreshold(threshold=threshold).fit(siData)\n",
    "#     print(data.shape)\n",
    "    print(set(varModel.feature_names_in_)-set(varModel.get_feature_names_out()))\n",
    "    siData = varModel.transform(siData)\n",
    "    siData = pd.DataFrame(siData, columns=varModel.get_feature_names_out())\n",
    "    inFeatures = siData.columns\n",
    "    return siData, inFeatures"
   ]
  },
  {
   "cell_type": "code",
   "execution_count": 10,
   "id": "ec9f7ae9",
   "metadata": {
    "pycharm": {
     "name": "#%%\n"
    },
    "scrolled": true
   },
   "outputs": [
    {
     "name": "stdout",
     "output_type": "stream",
     "text": [
      "{'head_V', 'JR_Y', 'JR_X', 'T_mid_F', 'delta_in', 'T_mid_R', 'Y_S_mid_F', 'T_out', 'Y_S_in', 'delta_mid_F', 'T_S_in', 'T_S_mid_R', 'Y_S_out', 'T_in', 'T_S_mid_F', 'T_S_out', 'Y_S_mid_R', 'delta_out', 'delta_mid_R', 'JR_Z'}\n"
     ]
    }
   ],
   "source": [
    "rawData, inFeatures = imputerVar(rawData, 0)"
   ]
  },
  {
   "cell_type": "code",
   "execution_count": 11,
   "id": "41e4dfe1",
   "metadata": {
    "pycharm": {
     "name": "#%%\n"
    }
   },
   "outputs": [
    {
     "data": {
      "text/plain": [
       "Index(['point_X', 'point_Y', 'point_Z', 'bonnet_YL', 'bonnet_YR', 'bonnet_XF',\n",
       "       'bonnet_XR', 'bonnet_A', 'dist_out_in', 'dist_in_hard', 'Ixx', 'Iyy',\n",
       "       'Izz', 'head_A', 'head_M', 'JL_X', 'JL_Y', 'JL_Z', 'LL_X', 'LL_Y',\n",
       "       'LL_Z', 'LR_X', 'LR_Y', 'LR_Z', 'B_LR_X', 'B_LR_Y', 'B_LR_Z', 'B_LF_X',\n",
       "       'B_LF_Y', 'B_LF_Z', 'B_RR_X', 'B_RR_Y', 'B_RR_Z', 'B_RF_X', 'B_RF_Y',\n",
       "       'B_RF_Z'],\n",
       "      dtype='object')"
      ]
     },
     "execution_count": 11,
     "metadata": {},
     "output_type": "execute_result"
    }
   ],
   "source": [
    "rawData.columns"
   ]
  },
  {
   "cell_type": "markdown",
   "id": "26945216",
   "metadata": {
    "pycharm": {
     "name": "#%% md\n"
    }
   },
   "source": [
    "## 异常值检测"
   ]
  },
  {
   "cell_type": "code",
   "execution_count": 12,
   "id": "56bee820",
   "metadata": {
    "pycharm": {
     "name": "#%%\n"
    }
   },
   "outputs": [],
   "source": [
    "def solveoutliers(isExec, data, label, flag, contamination):\n",
    "    '''是否处理异常值'''\n",
    "    def isoForest(data, label, flag, contamination=0.1):\n",
    "        '''孤立森林去除异常值'''\n",
    "        isoData = copy.deepcopy(data)\n",
    "        clf = IsolationForest(max_samples='auto', random_state=0, max_features=1,contamination=contamination).fit(isoData)\n",
    "        myIsoDataIndex = clf.predict(isoData)\n",
    "        print(Counter(myIsoDataIndex))\n",
    "#         print(myIsoDataIndex)\n",
    "        data_ = isoData[myIsoDataIndex==1]\n",
    "        label_ = label[myIsoDataIndex==1]\n",
    "        flag_ = flag[myIsoDataIndex==1]\n",
    "        isoData = isoData[myIsoDataIndex==-1]\n",
    "        isoLabel = label[myIsoDataIndex==-1]\n",
    "        isoFlag = flag[myIsoDataIndex==-1]\n",
    "        pd.concat([isoData,isoLabel,isoFlag], axis=1).to_csv('./data/significantSample.csv')\n",
    "        return data_, label_, flag_\n",
    "    if isExec:\n",
    "        return isoForest(data,label, flag, contamination)\n",
    "    return data, label, flag"
   ]
  },
  {
   "cell_type": "code",
   "execution_count": 13,
   "id": "ac705a73",
   "metadata": {
    "pycharm": {
     "name": "#%%\n"
    },
    "scrolled": true
   },
   "outputs": [],
   "source": [
    "data, label, flag = solveoutliers(False, rawData, rawLabel, rawFlag, 0.05)"
   ]
  },
  {
   "cell_type": "code",
   "execution_count": 14,
   "id": "9937d653",
   "metadata": {
    "pycharm": {
     "name": "#%%\n"
    }
   },
   "outputs": [
    {
     "data": {
      "text/html": [
       "<div>\n",
       "<style scoped>\n",
       "    .dataframe tbody tr th:only-of-type {\n",
       "        vertical-align: middle;\n",
       "    }\n",
       "\n",
       "    .dataframe tbody tr th {\n",
       "        vertical-align: top;\n",
       "    }\n",
       "\n",
       "    .dataframe thead th {\n",
       "        text-align: right;\n",
       "    }\n",
       "</style>\n",
       "<table border=\"1\" class=\"dataframe\">\n",
       "  <thead>\n",
       "    <tr style=\"text-align: right;\">\n",
       "      <th></th>\n",
       "      <th>point_X</th>\n",
       "      <th>point_Y</th>\n",
       "      <th>point_Z</th>\n",
       "      <th>bonnet_YL</th>\n",
       "      <th>bonnet_YR</th>\n",
       "      <th>bonnet_XF</th>\n",
       "      <th>bonnet_XR</th>\n",
       "      <th>bonnet_A</th>\n",
       "      <th>dist_out_in</th>\n",
       "      <th>dist_in_hard</th>\n",
       "      <th>...</th>\n",
       "      <th>B_LR_Z</th>\n",
       "      <th>B_LF_X</th>\n",
       "      <th>B_LF_Y</th>\n",
       "      <th>B_LF_Z</th>\n",
       "      <th>B_RR_X</th>\n",
       "      <th>B_RR_Y</th>\n",
       "      <th>B_RR_Z</th>\n",
       "      <th>B_RF_X</th>\n",
       "      <th>B_RF_Y</th>\n",
       "      <th>B_RF_Z</th>\n",
       "    </tr>\n",
       "  </thead>\n",
       "  <tbody>\n",
       "    <tr>\n",
       "      <th>0</th>\n",
       "      <td>-224.837087</td>\n",
       "      <td>903.663608</td>\n",
       "      <td>168.681539</td>\n",
       "      <td>748.932720</td>\n",
       "      <td>748.756996</td>\n",
       "      <td>146.514507</td>\n",
       "      <td>996.208068</td>\n",
       "      <td>74.490404</td>\n",
       "      <td>66.869443</td>\n",
       "      <td>54.675471</td>\n",
       "      <td>...</td>\n",
       "      <td>-44.351351</td>\n",
       "      <td>-829.08684</td>\n",
       "      <td>1445.172387</td>\n",
       "      <td>-9.070973</td>\n",
       "      <td>-989.359553</td>\n",
       "      <td>451.015604</td>\n",
       "      <td>-44.351351</td>\n",
       "      <td>-829.08684</td>\n",
       "      <td>162.154829</td>\n",
       "      <td>-9.070973</td>\n",
       "    </tr>\n",
       "    <tr>\n",
       "      <th>1</th>\n",
       "      <td>-224.837087</td>\n",
       "      <td>703.663608</td>\n",
       "      <td>168.681539</td>\n",
       "      <td>948.314790</td>\n",
       "      <td>948.133925</td>\n",
       "      <td>996.114362</td>\n",
       "      <td>146.546799</td>\n",
       "      <td>79.320483</td>\n",
       "      <td>66.870270</td>\n",
       "      <td>54.677631</td>\n",
       "      <td>...</td>\n",
       "      <td>-44.351351</td>\n",
       "      <td>-829.08684</td>\n",
       "      <td>1445.172387</td>\n",
       "      <td>-9.070973</td>\n",
       "      <td>-989.359553</td>\n",
       "      <td>451.015604</td>\n",
       "      <td>-44.351351</td>\n",
       "      <td>-829.08684</td>\n",
       "      <td>162.154829</td>\n",
       "      <td>-9.070973</td>\n",
       "    </tr>\n",
       "    <tr>\n",
       "      <th>2</th>\n",
       "      <td>-224.837087</td>\n",
       "      <td>1003.663608</td>\n",
       "      <td>167.138348</td>\n",
       "      <td>649.229120</td>\n",
       "      <td>649.056138</td>\n",
       "      <td>989.679947</td>\n",
       "      <td>151.408366</td>\n",
       "      <td>82.942167</td>\n",
       "      <td>66.917820</td>\n",
       "      <td>67.916568</td>\n",
       "      <td>...</td>\n",
       "      <td>-44.351351</td>\n",
       "      <td>-829.08684</td>\n",
       "      <td>1445.172387</td>\n",
       "      <td>-9.070973</td>\n",
       "      <td>-989.359553</td>\n",
       "      <td>451.015604</td>\n",
       "      <td>-44.351351</td>\n",
       "      <td>-829.08684</td>\n",
       "      <td>162.154829</td>\n",
       "      <td>-9.070973</td>\n",
       "    </tr>\n",
       "    <tr>\n",
       "      <th>3</th>\n",
       "      <td>-224.837087</td>\n",
       "      <td>603.663608</td>\n",
       "      <td>167.138348</td>\n",
       "      <td>1047.998041</td>\n",
       "      <td>1047.814713</td>\n",
       "      <td>990.126150</td>\n",
       "      <td>151.492057</td>\n",
       "      <td>75.915156</td>\n",
       "      <td>66.916720</td>\n",
       "      <td>65.250037</td>\n",
       "      <td>...</td>\n",
       "      <td>-44.351351</td>\n",
       "      <td>-829.08684</td>\n",
       "      <td>1445.172387</td>\n",
       "      <td>-9.070973</td>\n",
       "      <td>-989.359553</td>\n",
       "      <td>451.015604</td>\n",
       "      <td>-44.351351</td>\n",
       "      <td>-829.08684</td>\n",
       "      <td>162.154829</td>\n",
       "      <td>-9.070973</td>\n",
       "    </tr>\n",
       "    <tr>\n",
       "      <th>4</th>\n",
       "      <td>-224.837087</td>\n",
       "      <td>1103.663608</td>\n",
       "      <td>164.734236</td>\n",
       "      <td>549.539633</td>\n",
       "      <td>549.369730</td>\n",
       "      <td>160.204659</td>\n",
       "      <td>978.992903</td>\n",
       "      <td>75.061443</td>\n",
       "      <td>66.731762</td>\n",
       "      <td>67.916568</td>\n",
       "      <td>...</td>\n",
       "      <td>-44.351351</td>\n",
       "      <td>-829.08684</td>\n",
       "      <td>1445.172387</td>\n",
       "      <td>-9.070973</td>\n",
       "      <td>-989.359553</td>\n",
       "      <td>451.015604</td>\n",
       "      <td>-44.351351</td>\n",
       "      <td>-829.08684</td>\n",
       "      <td>162.154829</td>\n",
       "      <td>-9.070973</td>\n",
       "    </tr>\n",
       "  </tbody>\n",
       "</table>\n",
       "<p>5 rows × 36 columns</p>\n",
       "</div>"
      ],
      "text/plain": [
       "      point_X      point_Y     point_Z    bonnet_YL    bonnet_YR   bonnet_XF  \\\n",
       "0 -224.837087   903.663608  168.681539   748.932720   748.756996  146.514507   \n",
       "1 -224.837087   703.663608  168.681539   948.314790   948.133925  996.114362   \n",
       "2 -224.837087  1003.663608  167.138348   649.229120   649.056138  989.679947   \n",
       "3 -224.837087   603.663608  167.138348  1047.998041  1047.814713  990.126150   \n",
       "4 -224.837087  1103.663608  164.734236   549.539633   549.369730  160.204659   \n",
       "\n",
       "    bonnet_XR   bonnet_A  dist_out_in  dist_in_hard  ...     B_LR_Z  \\\n",
       "0  996.208068  74.490404    66.869443     54.675471  ... -44.351351   \n",
       "1  146.546799  79.320483    66.870270     54.677631  ... -44.351351   \n",
       "2  151.408366  82.942167    66.917820     67.916568  ... -44.351351   \n",
       "3  151.492057  75.915156    66.916720     65.250037  ... -44.351351   \n",
       "4  978.992903  75.061443    66.731762     67.916568  ... -44.351351   \n",
       "\n",
       "      B_LF_X       B_LF_Y    B_LF_Z      B_RR_X      B_RR_Y     B_RR_Z  \\\n",
       "0 -829.08684  1445.172387 -9.070973 -989.359553  451.015604 -44.351351   \n",
       "1 -829.08684  1445.172387 -9.070973 -989.359553  451.015604 -44.351351   \n",
       "2 -829.08684  1445.172387 -9.070973 -989.359553  451.015604 -44.351351   \n",
       "3 -829.08684  1445.172387 -9.070973 -989.359553  451.015604 -44.351351   \n",
       "4 -829.08684  1445.172387 -9.070973 -989.359553  451.015604 -44.351351   \n",
       "\n",
       "      B_RF_X      B_RF_Y    B_RF_Z  \n",
       "0 -829.08684  162.154829 -9.070973  \n",
       "1 -829.08684  162.154829 -9.070973  \n",
       "2 -829.08684  162.154829 -9.070973  \n",
       "3 -829.08684  162.154829 -9.070973  \n",
       "4 -829.08684  162.154829 -9.070973  \n",
       "\n",
       "[5 rows x 36 columns]"
      ]
     },
     "execution_count": 14,
     "metadata": {},
     "output_type": "execute_result"
    }
   ],
   "source": [
    "data.head()"
   ]
  },
  {
   "cell_type": "code",
   "execution_count": 15,
   "id": "610e064b",
   "metadata": {
    "pycharm": {
     "name": "#%%\n"
    }
   },
   "outputs": [],
   "source": [
    "columns = ['point_Z',\n",
    "             'point_Y',\n",
    "             'bonnet_YR',\n",
    "             'Izz',\n",
    "             'Ixx',\n",
    "             'Iyy',\n",
    "             'dist_in_hard',\n",
    "             'bonnet_XF',\n",
    "             'bonnet_YL',\n",
    "             'bonnet_A',\n",
    "             'head_M',\n",
    "             'bonnet_XR',\n",
    "             'dist_out_in']\n"
   ]
  },
  {
   "cell_type": "code",
   "execution_count": 16,
   "id": "353565f1",
   "metadata": {
    "pycharm": {
     "name": "#%%\n"
    }
   },
   "outputs": [
    {
     "data": {
      "text/html": [
       "<div>\n",
       "<style scoped>\n",
       "    .dataframe tbody tr th:only-of-type {\n",
       "        vertical-align: middle;\n",
       "    }\n",
       "\n",
       "    .dataframe tbody tr th {\n",
       "        vertical-align: top;\n",
       "    }\n",
       "\n",
       "    .dataframe thead th {\n",
       "        text-align: right;\n",
       "    }\n",
       "</style>\n",
       "<table border=\"1\" class=\"dataframe\">\n",
       "  <thead>\n",
       "    <tr style=\"text-align: right;\">\n",
       "      <th></th>\n",
       "      <th>point_Z</th>\n",
       "      <th>point_Y</th>\n",
       "      <th>bonnet_YR</th>\n",
       "      <th>Izz</th>\n",
       "      <th>Ixx</th>\n",
       "      <th>Iyy</th>\n",
       "      <th>dist_in_hard</th>\n",
       "      <th>bonnet_XF</th>\n",
       "      <th>bonnet_YL</th>\n",
       "      <th>bonnet_A</th>\n",
       "      <th>head_M</th>\n",
       "      <th>bonnet_XR</th>\n",
       "      <th>dist_out_in</th>\n",
       "    </tr>\n",
       "  </thead>\n",
       "  <tbody>\n",
       "    <tr>\n",
       "      <th>0</th>\n",
       "      <td>168.681539</td>\n",
       "      <td>903.663608</td>\n",
       "      <td>748.756996</td>\n",
       "      <td>41.441302</td>\n",
       "      <td>39.996190</td>\n",
       "      <td>3.419993</td>\n",
       "      <td>54.675471</td>\n",
       "      <td>146.514507</td>\n",
       "      <td>748.932720</td>\n",
       "      <td>74.490404</td>\n",
       "      <td>4.5</td>\n",
       "      <td>996.208068</td>\n",
       "      <td>66.869443</td>\n",
       "    </tr>\n",
       "    <tr>\n",
       "      <th>1</th>\n",
       "      <td>168.681539</td>\n",
       "      <td>703.663608</td>\n",
       "      <td>948.133925</td>\n",
       "      <td>26.668984</td>\n",
       "      <td>25.234662</td>\n",
       "      <td>3.456360</td>\n",
       "      <td>54.677631</td>\n",
       "      <td>996.114362</td>\n",
       "      <td>948.314790</td>\n",
       "      <td>79.320483</td>\n",
       "      <td>4.5</td>\n",
       "      <td>146.546799</td>\n",
       "      <td>66.870270</td>\n",
       "    </tr>\n",
       "    <tr>\n",
       "      <th>2</th>\n",
       "      <td>167.138348</td>\n",
       "      <td>1003.663608</td>\n",
       "      <td>649.056138</td>\n",
       "      <td>56.041158</td>\n",
       "      <td>54.431923</td>\n",
       "      <td>3.804410</td>\n",
       "      <td>67.916568</td>\n",
       "      <td>989.679947</td>\n",
       "      <td>649.229120</td>\n",
       "      <td>82.942167</td>\n",
       "      <td>4.5</td>\n",
       "      <td>151.408366</td>\n",
       "      <td>66.917820</td>\n",
       "    </tr>\n",
       "    <tr>\n",
       "      <th>3</th>\n",
       "      <td>167.138348</td>\n",
       "      <td>603.663608</td>\n",
       "      <td>1047.814713</td>\n",
       "      <td>22.434865</td>\n",
       "      <td>20.820017</td>\n",
       "      <td>3.927040</td>\n",
       "      <td>65.250037</td>\n",
       "      <td>990.126150</td>\n",
       "      <td>1047.998041</td>\n",
       "      <td>75.915156</td>\n",
       "      <td>4.5</td>\n",
       "      <td>151.492057</td>\n",
       "      <td>66.916720</td>\n",
       "    </tr>\n",
       "    <tr>\n",
       "      <th>4</th>\n",
       "      <td>164.734236</td>\n",
       "      <td>1103.663608</td>\n",
       "      <td>549.369730</td>\n",
       "      <td>58.809046</td>\n",
       "      <td>57.412413</td>\n",
       "      <td>3.194240</td>\n",
       "      <td>67.916568</td>\n",
       "      <td>160.204659</td>\n",
       "      <td>549.539633</td>\n",
       "      <td>75.061443</td>\n",
       "      <td>4.5</td>\n",
       "      <td>978.992903</td>\n",
       "      <td>66.731762</td>\n",
       "    </tr>\n",
       "    <tr>\n",
       "      <th>...</th>\n",
       "      <td>...</td>\n",
       "      <td>...</td>\n",
       "      <td>...</td>\n",
       "      <td>...</td>\n",
       "      <td>...</td>\n",
       "      <td>...</td>\n",
       "      <td>...</td>\n",
       "      <td>...</td>\n",
       "      <td>...</td>\n",
       "      <td>...</td>\n",
       "      <td>...</td>\n",
       "      <td>...</td>\n",
       "      <td>...</td>\n",
       "    </tr>\n",
       "    <tr>\n",
       "      <th>532</th>\n",
       "      <td>166.175082</td>\n",
       "      <td>113.557486</td>\n",
       "      <td>166.094346</td>\n",
       "      <td>14.426922</td>\n",
       "      <td>0.824402</td>\n",
       "      <td>14.185633</td>\n",
       "      <td>45.513466</td>\n",
       "      <td>416.679420</td>\n",
       "      <td>111.032206</td>\n",
       "      <td>71.252622</td>\n",
       "      <td>3.5</td>\n",
       "      <td>659.657751</td>\n",
       "      <td>53.547790</td>\n",
       "    </tr>\n",
       "    <tr>\n",
       "      <th>533</th>\n",
       "      <td>1659.148741</td>\n",
       "      <td>1613.557486</td>\n",
       "      <td>1658.793888</td>\n",
       "      <td>120.735960</td>\n",
       "      <td>106.573103</td>\n",
       "      <td>14.628984</td>\n",
       "      <td>1.659903</td>\n",
       "      <td>303.051140</td>\n",
       "      <td>92.924193</td>\n",
       "      <td>61.179346</td>\n",
       "      <td>3.5</td>\n",
       "      <td>306.662726</td>\n",
       "      <td>56.092138</td>\n",
       "    </tr>\n",
       "    <tr>\n",
       "      <th>534</th>\n",
       "      <td>66.361402</td>\n",
       "      <td>13.557486</td>\n",
       "      <td>66.510909</td>\n",
       "      <td>14.409907</td>\n",
       "      <td>0.265189</td>\n",
       "      <td>14.610557</td>\n",
       "      <td>1.645158</td>\n",
       "      <td>306.662726</td>\n",
       "      <td>92.924193</td>\n",
       "      <td>69.614199</td>\n",
       "      <td>3.5</td>\n",
       "      <td>303.051140</td>\n",
       "      <td>56.092138</td>\n",
       "    </tr>\n",
       "    <tr>\n",
       "      <th>535</th>\n",
       "      <td>1665.834259</td>\n",
       "      <td>1613.557486</td>\n",
       "      <td>73.963734</td>\n",
       "      <td>112.251204</td>\n",
       "      <td>102.932166</td>\n",
       "      <td>9.985806</td>\n",
       "      <td>46.222957</td>\n",
       "      <td>403.112382</td>\n",
       "      <td>111.016042</td>\n",
       "      <td>61.758434</td>\n",
       "      <td>3.5</td>\n",
       "      <td>406.765470</td>\n",
       "      <td>49.101403</td>\n",
       "    </tr>\n",
       "    <tr>\n",
       "      <th>536</th>\n",
       "      <td>73.947028</td>\n",
       "      <td>13.557486</td>\n",
       "      <td>1665.585560</td>\n",
       "      <td>9.683950</td>\n",
       "      <td>0.364913</td>\n",
       "      <td>9.985806</td>\n",
       "      <td>46.225114</td>\n",
       "      <td>406.765470</td>\n",
       "      <td>111.016042</td>\n",
       "      <td>65.608646</td>\n",
       "      <td>3.5</td>\n",
       "      <td>403.112382</td>\n",
       "      <td>49.101403</td>\n",
       "    </tr>\n",
       "  </tbody>\n",
       "</table>\n",
       "<p>537 rows × 13 columns</p>\n",
       "</div>"
      ],
      "text/plain": [
       "         point_Z      point_Y    bonnet_YR         Izz         Ixx        Iyy  \\\n",
       "0     168.681539   903.663608   748.756996   41.441302   39.996190   3.419993   \n",
       "1     168.681539   703.663608   948.133925   26.668984   25.234662   3.456360   \n",
       "2     167.138348  1003.663608   649.056138   56.041158   54.431923   3.804410   \n",
       "3     167.138348   603.663608  1047.814713   22.434865   20.820017   3.927040   \n",
       "4     164.734236  1103.663608   549.369730   58.809046   57.412413   3.194240   \n",
       "..           ...          ...          ...         ...         ...        ...   \n",
       "532   166.175082   113.557486   166.094346   14.426922    0.824402  14.185633   \n",
       "533  1659.148741  1613.557486  1658.793888  120.735960  106.573103  14.628984   \n",
       "534    66.361402    13.557486    66.510909   14.409907    0.265189  14.610557   \n",
       "535  1665.834259  1613.557486    73.963734  112.251204  102.932166   9.985806   \n",
       "536    73.947028    13.557486  1665.585560    9.683950    0.364913   9.985806   \n",
       "\n",
       "     dist_in_hard   bonnet_XF    bonnet_YL   bonnet_A  head_M   bonnet_XR  \\\n",
       "0       54.675471  146.514507   748.932720  74.490404     4.5  996.208068   \n",
       "1       54.677631  996.114362   948.314790  79.320483     4.5  146.546799   \n",
       "2       67.916568  989.679947   649.229120  82.942167     4.5  151.408366   \n",
       "3       65.250037  990.126150  1047.998041  75.915156     4.5  151.492057   \n",
       "4       67.916568  160.204659   549.539633  75.061443     4.5  978.992903   \n",
       "..            ...         ...          ...        ...     ...         ...   \n",
       "532     45.513466  416.679420   111.032206  71.252622     3.5  659.657751   \n",
       "533      1.659903  303.051140    92.924193  61.179346     3.5  306.662726   \n",
       "534      1.645158  306.662726    92.924193  69.614199     3.5  303.051140   \n",
       "535     46.222957  403.112382   111.016042  61.758434     3.5  406.765470   \n",
       "536     46.225114  406.765470   111.016042  65.608646     3.5  403.112382   \n",
       "\n",
       "     dist_out_in  \n",
       "0      66.869443  \n",
       "1      66.870270  \n",
       "2      66.917820  \n",
       "3      66.916720  \n",
       "4      66.731762  \n",
       "..           ...  \n",
       "532    53.547790  \n",
       "533    56.092138  \n",
       "534    56.092138  \n",
       "535    49.101403  \n",
       "536    49.101403  \n",
       "\n",
       "[537 rows x 13 columns]"
      ]
     },
     "execution_count": 16,
     "metadata": {},
     "output_type": "execute_result"
    }
   ],
   "source": [
    "data[columns]"
   ]
  },
  {
   "cell_type": "markdown",
   "id": "eebd9488",
   "metadata": {
    "pycharm": {
     "name": "#%% md\n"
    }
   },
   "source": [
    "# 可视化分析训练数据测试数据分布"
   ]
  },
  {
   "cell_type": "code",
   "execution_count": 17,
   "id": "4b3419d8",
   "metadata": {
    "pycharm": {
     "name": "#%%\n"
    }
   },
   "outputs": [],
   "source": [
    "def showVisual(data, label, flag ):\n",
    "    '''训练集和测试集数据可视化'''\n",
    "    columns = ['point_Z',\n",
    "             'point_Y',\n",
    "             'bonnet_YR',\n",
    "#              'Izz',\n",
    "#              'Ixx',\n",
    "             'Iyy'\n",
    "             ]\n",
    "    visData = copy.deepcopy(data[columns])\n",
    "    visData['label'] = label\n",
    "    visData['flag'] = flag\n",
    "    pp = sns.pairplot(visData, hue='flag',markers=[\"o\", \"s\"], corner=True, diag_kind=\"auto\",kind='reg')\n",
    "#     sns.pairplot(visData,hue='flag')\n",
    "    pp.fig.suptitle('The linear relationship between variables under different battery types')\n",
    "    # g.map_lower(sns.kdeplot, levels=4, color=\".2\")\n",
    "    plt.title('训练集和测试集之间关系图')\n",
    "    plt.show()"
   ]
  },
  {
   "cell_type": "code",
   "execution_count": 18,
   "id": "dd69ff5f",
   "metadata": {
    "pycharm": {
     "name": "#%%\n"
    }
   },
   "outputs": [],
   "source": [
    "# showVisual(data, label, flag)"
   ]
  },
  {
   "cell_type": "code",
   "execution_count": 19,
   "id": "49ac57e4",
   "metadata": {
    "pycharm": {
     "name": "#%%\n"
    }
   },
   "outputs": [
    {
     "data": {
      "text/html": [
       "<div>\n",
       "<style scoped>\n",
       "    .dataframe tbody tr th:only-of-type {\n",
       "        vertical-align: middle;\n",
       "    }\n",
       "\n",
       "    .dataframe tbody tr th {\n",
       "        vertical-align: top;\n",
       "    }\n",
       "\n",
       "    .dataframe thead th {\n",
       "        text-align: right;\n",
       "    }\n",
       "</style>\n",
       "<table border=\"1\" class=\"dataframe\">\n",
       "  <thead>\n",
       "    <tr style=\"text-align: right;\">\n",
       "      <th></th>\n",
       "      <th>bonnet_YR</th>\n",
       "      <th>point_Z</th>\n",
       "      <th>bonnet_YL</th>\n",
       "      <th>Iyy</th>\n",
       "    </tr>\n",
       "    <tr>\n",
       "      <th>flag</th>\n",
       "      <th></th>\n",
       "      <th></th>\n",
       "      <th></th>\n",
       "      <th></th>\n",
       "    </tr>\n",
       "  </thead>\n",
       "  <tbody>\n",
       "    <tr>\n",
       "      <th>F2</th>\n",
       "      <td>824.163473</td>\n",
       "      <td>825.491111</td>\n",
       "      <td>106.087513</td>\n",
       "      <td>20.766766</td>\n",
       "    </tr>\n",
       "    <tr>\n",
       "      <th>F3</th>\n",
       "      <td>799.769620</td>\n",
       "      <td>111.715113</td>\n",
       "      <td>800.556842</td>\n",
       "      <td>22.011294</td>\n",
       "    </tr>\n",
       "  </tbody>\n",
       "</table>\n",
       "</div>"
      ],
      "text/plain": [
       "       bonnet_YR     point_Z   bonnet_YL        Iyy\n",
       "flag                                               \n",
       "F2    824.163473  825.491111  106.087513  20.766766\n",
       "F3    799.769620  111.715113  800.556842  22.011294"
      ]
     },
     "execution_count": 19,
     "metadata": {},
     "output_type": "execute_result"
    }
   ],
   "source": [
    "data.groupby(flag)[['bonnet_YR','point_Z','bonnet_YL','Iyy']].mean()\n"
   ]
  },
  {
   "cell_type": "code",
   "execution_count": null,
   "id": "45f6c24e",
   "metadata": {
    "pycharm": {
     "name": "#%%\n"
    }
   },
   "outputs": [],
   "source": []
  },
  {
   "cell_type": "code",
   "execution_count": null,
   "id": "1e9d7eac",
   "metadata": {
    "pycharm": {
     "name": "#%%\n"
    }
   },
   "outputs": [],
   "source": []
  },
  {
   "cell_type": "code",
   "execution_count": null,
   "id": "6c8ad84d",
   "metadata": {
    "pycharm": {
     "name": "#%%\n"
    }
   },
   "outputs": [],
   "source": []
  },
  {
   "cell_type": "code",
   "execution_count": null,
   "id": "87afdbbf",
   "metadata": {
    "pycharm": {
     "name": "#%%\n"
    }
   },
   "outputs": [],
   "source": []
  },
  {
   "cell_type": "markdown",
   "id": "c02c37a8",
   "metadata": {
    "pycharm": {
     "name": "#%% md\n"
    }
   },
   "source": [
    "# 数据标准化"
   ]
  },
  {
   "cell_type": "code",
   "execution_count": 20,
   "id": "e82d02ef",
   "metadata": {
    "pycharm": {
     "name": "#%%\n"
    }
   },
   "outputs": [],
   "source": [
    "def stdModel(data):\n",
    "    '''数据标准化，然后拆分数据集'''\n",
    "    stdModel = preprocessing.StandardScaler().fit(data)\n",
    "    stdData = stdModel.transform(data)\n",
    "    joblib.dump(stdModel,'./models/stdModel.pkl')\n",
    "    data = pd.DataFrame(stdData, columns=data.columns)\n",
    "    return data\n",
    "# data = stdModel(data)"
   ]
  },
  {
   "cell_type": "code",
   "execution_count": 21,
   "id": "00ba4dee",
   "metadata": {
    "pycharm": {
     "name": "#%%\n"
    }
   },
   "outputs": [
    {
     "data": {
      "text/plain": [
       "(537, 36)"
      ]
     },
     "execution_count": 21,
     "metadata": {},
     "output_type": "execute_result"
    }
   ],
   "source": [
    "data.shape"
   ]
  },
  {
   "cell_type": "code",
   "execution_count": 22,
   "id": "3cf54924",
   "metadata": {
    "pycharm": {
     "name": "#%%\n"
    }
   },
   "outputs": [
    {
     "data": {
      "text/plain": [
       "Index(['point_X', 'point_Y', 'point_Z', 'bonnet_YL', 'bonnet_YR', 'bonnet_XF',\n",
       "       'bonnet_XR', 'bonnet_A', 'dist_out_in', 'dist_in_hard', 'Ixx', 'Iyy',\n",
       "       'Izz', 'head_A', 'head_M', 'JL_X', 'JL_Y', 'JL_Z', 'LL_X', 'LL_Y',\n",
       "       'LL_Z', 'LR_X', 'LR_Y', 'LR_Z', 'B_LR_X', 'B_LR_Y', 'B_LR_Z', 'B_LF_X',\n",
       "       'B_LF_Y', 'B_LF_Z', 'B_RR_X', 'B_RR_Y', 'B_RR_Z', 'B_RF_X', 'B_RF_Y',\n",
       "       'B_RF_Z'],\n",
       "      dtype='object')"
      ]
     },
     "execution_count": 22,
     "metadata": {},
     "output_type": "execute_result"
    }
   ],
   "source": [
    "colNames = data.columns\n",
    "colNames"
   ]
  },
  {
   "cell_type": "markdown",
   "id": "ce0b08b4",
   "metadata": {
    "pycharm": {
     "name": "#%% md\n"
    }
   },
   "source": [
    "# 数据拆分"
   ]
  },
  {
   "cell_type": "code",
   "execution_count": 23,
   "id": "4f1d50f1",
   "metadata": {
    "pycharm": {
     "name": "#%%\n"
    }
   },
   "outputs": [],
   "source": [
    "def splitData(flag, rawLabel, n):\n",
    "    '''数据拆分,n表示每个车型取的数据个数'''\n",
    "    data['label'] = rawLabel\n",
    "#     data['flag'] = flag\n",
    "    testData1 = data[flag=='F3'].iloc[:n, :]\n",
    "    testData2 = data[flag=='F2'].iloc[:n, :]\n",
    "    testData = pd.concat([testData1, testData2],axis=0)\n",
    "    trainData1 = data[flag=='F3'].iloc[n:, :]\n",
    "    trainData2 = data[flag=='F2'].iloc[n:, :]\n",
    "    trainData = pd.concat([trainData1, trainData2],axis=0)\n",
    "    testData.to_csv('./data/stdTestData.csv',index=False)\n",
    "    trainData.to_csv('./data/stdTrainData.csv',index=False)\n",
    "#     x_train,x_test,y_train,y_test = train_test_split(data,label,test_size=0.1,random_state=420)\n",
    "    yTrain = trainData.pop('label')\n",
    "    xTrain = trainData\n",
    "    yTest = testData.pop('label')\n",
    "    xTest = testData\n",
    "    return xTrain,xTest,yTrain,yTest "
   ]
  },
  {
   "cell_type": "code",
   "execution_count": 24,
   "id": "67291199",
   "metadata": {
    "pycharm": {
     "name": "#%%\n"
    }
   },
   "outputs": [],
   "source": [
    "n=15"
   ]
  },
  {
   "cell_type": "code",
   "execution_count": 25,
   "id": "6de902d9",
   "metadata": {
    "pycharm": {
     "name": "#%%\n"
    }
   },
   "outputs": [],
   "source": [
    "xTrain,xTest,yTrain,yTest = splitData(rawFlag, rawLabel, n)"
   ]
  },
  {
   "cell_type": "code",
   "execution_count": 26,
   "id": "d2fb21d8",
   "metadata": {
    "pycharm": {
     "name": "#%%\n"
    }
   },
   "outputs": [
    {
     "data": {
      "text/plain": [
       "(30,)"
      ]
     },
     "execution_count": 26,
     "metadata": {},
     "output_type": "execute_result"
    }
   ],
   "source": [
    "yTest.shape"
   ]
  },
  {
   "cell_type": "code",
   "execution_count": 27,
   "id": "c92dc14f",
   "metadata": {
    "pycharm": {
     "name": "#%%\n"
    }
   },
   "outputs": [
    {
     "data": {
      "text/plain": [
       "(30, 36)"
      ]
     },
     "execution_count": 27,
     "metadata": {},
     "output_type": "execute_result"
    }
   ],
   "source": [
    "xTest.shape"
   ]
  },
  {
   "cell_type": "markdown",
   "id": "7296cb16",
   "metadata": {
    "pycharm": {
     "name": "#%% md\n"
    }
   },
   "source": [
    "# 创建模型"
   ]
  },
  {
   "cell_type": "markdown",
   "id": "a5aa2e33",
   "metadata": {
    "pycharm": {
     "name": "#%% md\n"
    }
   },
   "source": [
    "## 线性回归模型"
   ]
  },
  {
   "cell_type": "code",
   "execution_count": 28,
   "id": "be7408a2",
   "metadata": {
    "pycharm": {
     "name": "#%%\n"
    }
   },
   "outputs": [],
   "source": [
    "def createLrModelSklearn():\n",
    "    model = LinearRegression()\n",
    "    model.fit(xTrain, yTrain)\n",
    "    yPredTest = model.predict(xTest)\n",
    "    yPredTrain = model.predict(xTrain)\n",
    "    r2Test = r2_score(yTest, yPredTest).round(3)\n",
    "    r2Train = r2_score(yTrain, yPredTrain).round(3)\n",
    "    maeTest = mean_absolute_error(yTest, yPredTest).round(3)\n",
    "    maeTrain = mean_absolute_error(yTrain, yPredTrain).round(3)\n",
    "    print(f'modelname:{model},\\ntrainR2:{r2Train},\\ntestR2:{r2Test}')\n",
    "    print(model.coef_)\n",
    "    joblib.dump(model, './models/lrModelSklearn.pkl')\n",
    "    return maeTest, maeTrain,r2Train, r2Test, model, yPredTest"
   ]
  },
  {
   "cell_type": "code",
   "execution_count": 29,
   "id": "ec3666c7",
   "metadata": {
    "pycharm": {
     "name": "#%%\n"
    }
   },
   "outputs": [
    {
     "name": "stdout",
     "output_type": "stream",
     "text": [
      "modelname:LinearRegression(),\n",
      "trainR2:0.579,\n",
      "testR2:-0.503\n",
      "[ 6.87257921e-01 -4.68024910e-01 -1.78727545e-02 -2.42049859e-02\n",
      "  2.61742605e-03 -1.91571825e-01 -2.00887849e-01 -2.34795182e+01\n",
      " -9.55382363e+00 -1.58982453e+00 -4.15420752e+02 -4.12791845e+02\n",
      "  4.23028061e+02  1.91208593e+01 -1.05057388e+02 -5.33000704e+09\n",
      " -1.49948648e+11  5.30301525e-04 -4.27021731e+11  2.99344204e+11\n",
      " -1.13521893e+11 -4.27021731e+11  1.57069075e+11 -1.13521893e+11\n",
      " -3.27233913e+11 -1.47776131e+11 -5.77658303e+10 -1.27013835e+11\n",
      "  7.20343082e+11 -5.96828560e+10  1.13699941e+11  6.39237861e+10\n",
      " -8.14519000e+10 -9.88465888e+10  1.86123459e+11 -5.55862854e+10]\n"
     ]
    }
   ],
   "source": [
    "lrMaeTestSklearn, lrMaeTrainSklearn, lrR2TrainSklearn, lrR2TestSklearn, lrModelSklearn, lryPredTestSklearn = createLrModelSklearn()"
   ]
  },
  {
   "cell_type": "markdown",
   "id": "c17e307d",
   "metadata": {
    "pycharm": {
     "name": "#%% md\n"
    }
   },
   "source": [
    "# 支持向量机"
   ]
  },
  {
   "cell_type": "code",
   "execution_count": 30,
   "id": "072a5bff",
   "metadata": {
    "pycharm": {
     "name": "#%%\n"
    }
   },
   "outputs": [],
   "source": [
    "def createSVRModelSklearn():\n",
    "    '''创建支持向量机回归模型'''\n",
    "    model = SVR()\n",
    "    model.fit(xTrain, yTrain)\n",
    "    yPredTest = model.predict(xTest)\n",
    "    yPredTrain = model.predict(xTrain)\n",
    "    r2Test = r2_score(yTest, yPredTest).round(3)\n",
    "    r2Train = r2_score(yTrain, yPredTrain).round(3)\n",
    "    maeTest = mean_absolute_error(yTest, yPredTest).round(3)\n",
    "    maeTrain = mean_absolute_error(yTrain, yPredTrain).round(3)\n",
    "    print(f'modelname:{model},\\ntrainR2:{r2Train},\\ntestR2:{r2Test}')\n",
    "    joblib.dump(model, './models/svrModelSklearn.pkl')\n",
    "    return maeTest, maeTrain,r2Train, r2Test, model, yPredTest"
   ]
  },
  {
   "cell_type": "code",
   "execution_count": 31,
   "id": "27e86158",
   "metadata": {
    "pycharm": {
     "name": "#%%\n"
    }
   },
   "outputs": [
    {
     "name": "stdout",
     "output_type": "stream",
     "text": [
      "modelname:SVR(),\n",
      "trainR2:-0.127,\n",
      "testR2:-0.111\n"
     ]
    }
   ],
   "source": [
    "svrMaeTestSklearn, svrMaeTrainSklearn, svrR2TrainSklearn, svrR2TestSklearn, svrModelSklearn, svryPredTestSklearn = createSVRModelSklearn()"
   ]
  },
  {
   "cell_type": "markdown",
   "id": "35bab653",
   "metadata": {
    "pycharm": {
     "name": "#%% md\n"
    }
   },
   "source": [
    "## 特征重要性函数编写"
   ]
  },
  {
   "cell_type": "code",
   "execution_count": 32,
   "id": "926574c5",
   "metadata": {
    "pycharm": {
     "name": "#%%\n"
    }
   },
   "outputs": [],
   "source": [
    "def getFeaturesImportance(model, n, flag, colNames):\n",
    "    '''获取特征重要性排序,model:模型名字，n：过滤阈值，flag:模型名字，colNames，列名字'''\n",
    "    randomForestFeaturesImportance = dict(zip(colNames, model.feature_importances_))\n",
    "    sorted(randomForestFeaturesImportance.items(), key=lambda d: d[1], reverse=True)\n",
    "    randomForestFeaturesImportance = pd.DataFrame.from_dict(randomForestFeaturesImportance,orient='index') \\\n",
    "                                                            .rename(columns={'index':'featureName',0:'score'}) \\\n",
    "                                                            .sort_values(by='score', ascending=False)\n",
    "    randomForestFeaturesImportance = randomForestFeaturesImportance[randomForestFeaturesImportance['score']>n].reset_index()\n",
    "    randomForestFeaturesImportance.to_csv('./data/'+flag+'FeaturesImportance.csv', index=False)\n",
    "    return randomForestFeaturesImportance"
   ]
  },
  {
   "cell_type": "markdown",
   "id": "ba2d0501",
   "metadata": {
    "pycharm": {
     "name": "#%% md\n"
    }
   },
   "source": [
    "## 随机森林"
   ]
  },
  {
   "cell_type": "code",
   "execution_count": 33,
   "id": "888dd720",
   "metadata": {
    "pycharm": {
     "name": "#%%\n"
    }
   },
   "outputs": [],
   "source": [
    "def createRandomForestModelSklearn():\n",
    "    '''创建随机森林模型'''\n",
    "    model = RandomForestRegressor(random_state=1)\n",
    "    model.fit(xTrain, yTrain)\n",
    "    yPredTest = model.predict(xTest)\n",
    "    yPredTrain = model.predict(xTrain)\n",
    "    r2Test = r2_score(yTest, yPredTest).round(3)\n",
    "    r2Train = r2_score(yTrain, yPredTrain).round(3)\n",
    "    maeTest = mean_absolute_error(yTest, yPredTest).round(3)\n",
    "    maeTrain = mean_absolute_error(yTrain, yPredTrain).round(3)\n",
    "    print(f'modelname:{model},\\ntrainR2:{r2Train},\\ntestR2:{r2Test}')\n",
    "    joblib.dump(model, './models/randomForestModelSklearn.pkl')\n",
    "    return maeTest, maeTrain,r2Train, r2Test, model, yPredTest\n"
   ]
  },
  {
   "cell_type": "code",
   "execution_count": 34,
   "id": "5bfe160c",
   "metadata": {
    "pycharm": {
     "name": "#%%\n"
    }
   },
   "outputs": [
    {
     "name": "stdout",
     "output_type": "stream",
     "text": [
      "modelname:RandomForestRegressor(random_state=1),\n",
      "trainR2:0.982,\n",
      "testR2:0.808\n"
     ]
    }
   ],
   "source": [
    "randomForestMaeTestSklearn, randomForestMaeTrainSklearn, randomForestR2TrainSklearn, randomForestR2TestSklearn, randomForestModelSklearn, randomForestyPredTestSklearn = createRandomForestModelSklearn()\n"
   ]
  },
  {
   "cell_type": "code",
   "execution_count": 35,
   "id": "938c3524",
   "metadata": {
    "pycharm": {
     "name": "#%%\n"
    },
    "scrolled": true
   },
   "outputs": [],
   "source": [
    "randomForestFeaturesImportance = getFeaturesImportance(randomForestModelSklearn,0.,'randomForest',colNames)\n"
   ]
  },
  {
   "cell_type": "markdown",
   "id": "863f1ce8",
   "metadata": {
    "pycharm": {
     "name": "#%% md\n"
    }
   },
   "source": [
    "## XGB模型"
   ]
  },
  {
   "cell_type": "code",
   "execution_count": 36,
   "id": "15a7410a",
   "metadata": {
    "pycharm": {
     "name": "#%%\n"
    }
   },
   "outputs": [],
   "source": [
    "def createXgbModelSklearn():\n",
    "    '''创建XGB模型'''\n",
    "    model = XGBRegressor()\n",
    "    model.fit(xTrain, yTrain)\n",
    "    yPredTest = model.predict(xTest)\n",
    "    yPredTrain = model.predict(xTrain)\n",
    "    r2Test = r2_score(yTest, yPredTest).round(3)\n",
    "    r2Train = r2_score(yTrain, yPredTrain).round(3)\n",
    "    maeTest = mean_absolute_error(yTest, yPredTest).round(3)\n",
    "    maeTrain = mean_absolute_error(yTrain, yPredTrain).round(3)\n",
    "    print(f'modelname:{model},\\ntrainR2:{r2Train},\\ntestR2:{r2Test}')\n",
    "    joblib.dump(model, './models/xgbModelSklearn.pkl')\n",
    "    return maeTest, maeTrain,r2Train, r2Test, model, yPredTest"
   ]
  },
  {
   "cell_type": "code",
   "execution_count": 37,
   "id": "ee74883a",
   "metadata": {
    "pycharm": {
     "name": "#%%\n"
    }
   },
   "outputs": [
    {
     "name": "stdout",
     "output_type": "stream",
     "text": [
      "modelname:XGBRegressor(base_score=None, booster=None, callbacks=None,\n",
      "             colsample_bylevel=None, colsample_bynode=None,\n",
      "             colsample_bytree=None, device=None, early_stopping_rounds=None,\n",
      "             enable_categorical=False, eval_metric=None, feature_types=None,\n",
      "             gamma=None, grow_policy=None, importance_type=None,\n",
      "             interaction_constraints=None, learning_rate=None, max_bin=None,\n",
      "             max_cat_threshold=None, max_cat_to_onehot=None,\n",
      "             max_delta_step=None, max_depth=None, max_leaves=None,\n",
      "             min_child_weight=None, missing=nan, monotone_constraints=None,\n",
      "             multi_strategy=None, n_estimators=None, n_jobs=None,\n",
      "             num_parallel_tree=None, random_state=None, ...),\n",
      "trainR2:1.0,\n",
      "testR2:0.652\n"
     ]
    }
   ],
   "source": [
    "xgbMaeTestSklearn, xgbMaeTrainSklearn, xgbR2TrainSklearn, xgbR2TestSklearn, xgbModelSklearn, xgbyPredTestSklearn =createXgbModelSklearn()"
   ]
  },
  {
   "cell_type": "code",
   "execution_count": 38,
   "id": "ccf2fbbc",
   "metadata": {
    "pycharm": {
     "name": "#%%\n"
    },
    "scrolled": true
   },
   "outputs": [],
   "source": [
    "randomForestFeaturesImportance = getFeaturesImportance(xgbModelSklearn,0.,'xgbModel',colNames)\n"
   ]
  },
  {
   "cell_type": "markdown",
   "id": "f7f5b5e0",
   "metadata": {
    "pycharm": {
     "name": "#%% md\n"
    }
   },
   "source": [
    "## CatBoostRegressor"
   ]
  },
  {
   "cell_type": "code",
   "execution_count": null,
   "id": "ca312b13",
   "metadata": {
    "pycharm": {
     "name": "#%%\n"
    }
   },
   "outputs": [],
   "source": []
  },
  {
   "cell_type": "code",
   "execution_count": 39,
   "id": "cc1bb2ed",
   "metadata": {
    "pycharm": {
     "name": "#%%\n"
    }
   },
   "outputs": [],
   "source": [
    "def createCatBoostModel():\n",
    "    '''创建CatBoost模型'''\n",
    "    # initialize Pool\n",
    "    trainPool = Pool(xTrain,\n",
    "                      yTrain)\n",
    "    testPool = Pool(xTest) \n",
    "\n",
    "    # specify the training parameters \n",
    "    model = CatBoostRegressor(silent=True)\n",
    "    #train the model\n",
    "    model.fit(trainPool)\n",
    "    # make the prediction using the resulting model\n",
    "    yPredTest = model.predict(xTest)\n",
    "    yPredTrain = model.predict(xTrain)\n",
    "    r2Test = r2_score(yTest, yPredTest).round(3)\n",
    "    r2Train = r2_score(yTrain, yPredTrain).round(3)\n",
    "    maeTest = mean_absolute_error(yTest, yPredTest).round(3)\n",
    "    maeTrain = mean_absolute_error(yTrain, yPredTrain).round(3)\n",
    "    print(f'modelname:{model},\\ntrainR2:{r2Train},\\ntestR2:{r2Test}')\n",
    "    joblib.dump(model, './models/catBoostModel.pkl')\n",
    "    return maeTest, maeTrain,r2Train, r2Test, model, yPredTest\n"
   ]
  },
  {
   "cell_type": "code",
   "execution_count": 40,
   "id": "c68395f5",
   "metadata": {
    "pycharm": {
     "name": "#%%\n"
    },
    "scrolled": true
   },
   "outputs": [
    {
     "name": "stdout",
     "output_type": "stream",
     "text": [
      "modelname:<catboost.core.CatBoostRegressor object at 0x0000022E4DE24150>,\n",
      "trainR2:0.998,\n",
      "testR2:0.735\n"
     ]
    }
   ],
   "source": [
    "catBoostMaeTestSklearn, catBoostMaeTrainSklearn, catBoostR2TrainSklearn, catBoostR2TestSklearn, catBoostModelSklearn, catBoostyPredTestSklearn = createCatBoostModel()"
   ]
  },
  {
   "cell_type": "code",
   "execution_count": 41,
   "id": "f3183c24",
   "metadata": {
    "pycharm": {
     "name": "#%%\n"
    },
    "scrolled": true
   },
   "outputs": [],
   "source": [
    "catBoostFeaturesImportance = getFeaturesImportance(catBoostModelSklearn,0.,'catBoost',colNames)\n"
   ]
  },
  {
   "cell_type": "code",
   "execution_count": null,
   "id": "f0e1d804",
   "metadata": {
    "pycharm": {
     "name": "#%%\n"
    }
   },
   "outputs": [],
   "source": []
  },
  {
   "cell_type": "markdown",
   "id": "13522738",
   "metadata": {
    "pycharm": {
     "name": "#%% md\n"
    }
   },
   "source": [
    "# 加载所有模型并预测"
   ]
  },
  {
   "cell_type": "code",
   "execution_count": 42,
   "id": "fa11939a",
   "metadata": {
    "pycharm": {
     "name": "#%%\n"
    }
   },
   "outputs": [
    {
     "data": {
      "text/plain": [
       "Index(['point_X', 'point_Y', 'point_Z', 'bonnet_YL', 'bonnet_YR', 'bonnet_XF',\n",
       "       'bonnet_XR', 'bonnet_A', 'dist_out_in', 'dist_in_hard', 'Ixx', 'Iyy',\n",
       "       'Izz', 'head_A', 'head_M', 'JL_X', 'JL_Y', 'JL_Z', 'LL_X', 'LL_Y',\n",
       "       'LL_Z', 'LR_X', 'LR_Y', 'LR_Z', 'B_LR_X', 'B_LR_Y', 'B_LR_Z', 'B_LF_X',\n",
       "       'B_LF_Y', 'B_LF_Z', 'B_RR_X', 'B_RR_Y', 'B_RR_Z', 'B_RF_X', 'B_RF_Y',\n",
       "       'B_RF_Z'],\n",
       "      dtype='object')"
      ]
     },
     "execution_count": 42,
     "metadata": {},
     "output_type": "execute_result"
    }
   ],
   "source": [
    "xTest.columns"
   ]
  },
  {
   "cell_type": "code",
   "execution_count": 43,
   "id": "e4fd54e6",
   "metadata": {
    "pycharm": {
     "name": "#%%\n"
    }
   },
   "outputs": [],
   "source": [
    "pd.concat([xTest,yTest],axis=1).to_csv('./data/preData2.csv')"
   ]
  },
  {
   "cell_type": "code",
   "execution_count": null,
   "id": "9c6c5e03",
   "metadata": {
    "pycharm": {
     "name": "#%%\n"
    }
   },
   "outputs": [],
   "source": []
  },
  {
   "cell_type": "code",
   "execution_count": null,
   "id": "df0b3fd0",
   "metadata": {
    "pycharm": {
     "name": "#%%\n"
    }
   },
   "outputs": [],
   "source": []
  },
  {
   "cell_type": "code",
   "execution_count": 44,
   "id": "3a096f45",
   "metadata": {
    "pycharm": {
     "name": "#%%\n"
    }
   },
   "outputs": [
    {
     "data": {
      "text/plain": [
       "(3, 36)"
      ]
     },
     "execution_count": 44,
     "metadata": {},
     "output_type": "execute_result"
    }
   ],
   "source": [
    "predData = pd.read_csv('./data/preData.csv')[colNames].values\n",
    "predData.shape"
   ]
  },
  {
   "cell_type": "code",
   "execution_count": 45,
   "id": "c0f2cd8b",
   "metadata": {
    "pycharm": {
     "name": "#%%\n"
    },
    "scrolled": true
   },
   "outputs": [
    {
     "data": {
      "text/html": [
       "<div>\n",
       "<style scoped>\n",
       "    .dataframe tbody tr th:only-of-type {\n",
       "        vertical-align: middle;\n",
       "    }\n",
       "\n",
       "    .dataframe tbody tr th {\n",
       "        vertical-align: top;\n",
       "    }\n",
       "\n",
       "    .dataframe thead th {\n",
       "        text-align: right;\n",
       "    }\n",
       "</style>\n",
       "<table border=\"1\" class=\"dataframe\">\n",
       "  <thead>\n",
       "    <tr style=\"text-align: right;\">\n",
       "      <th></th>\n",
       "      <th>线性回归</th>\n",
       "      <th>随机森林</th>\n",
       "      <th>支持向量机</th>\n",
       "      <th>xgboost</th>\n",
       "      <th>catBoost</th>\n",
       "      <th>真实值</th>\n",
       "    </tr>\n",
       "  </thead>\n",
       "  <tbody>\n",
       "    <tr>\n",
       "      <th>0</th>\n",
       "      <td>300.5</td>\n",
       "      <td>583.495</td>\n",
       "      <td>732.640</td>\n",
       "      <td>564.690002</td>\n",
       "      <td>650.669</td>\n",
       "      <td>535.93</td>\n",
       "    </tr>\n",
       "    <tr>\n",
       "      <th>1</th>\n",
       "      <td>152.5</td>\n",
       "      <td>634.132</td>\n",
       "      <td>732.599</td>\n",
       "      <td>682.122986</td>\n",
       "      <td>675.297</td>\n",
       "      <td>555.98</td>\n",
       "    </tr>\n",
       "    <tr>\n",
       "      <th>2</th>\n",
       "      <td>65.0</td>\n",
       "      <td>603.565</td>\n",
       "      <td>733.685</td>\n",
       "      <td>614.021973</td>\n",
       "      <td>667.734</td>\n",
       "      <td>458.02</td>\n",
       "    </tr>\n",
       "    <tr>\n",
       "      <th>3</th>\n",
       "      <td>108.5</td>\n",
       "      <td>600.491</td>\n",
       "      <td>732.380</td>\n",
       "      <td>685.380005</td>\n",
       "      <td>680.748</td>\n",
       "      <td>542.52</td>\n",
       "    </tr>\n",
       "    <tr>\n",
       "      <th>4</th>\n",
       "      <td>384.5</td>\n",
       "      <td>607.094</td>\n",
       "      <td>733.564</td>\n",
       "      <td>567.658997</td>\n",
       "      <td>647.071</td>\n",
       "      <td>568.25</td>\n",
       "    </tr>\n",
       "  </tbody>\n",
       "</table>\n",
       "</div>"
      ],
      "text/plain": [
       "    线性回归     随机森林    支持向量机     xgboost  catBoost     真实值\n",
       "0  300.5  583.495  732.640  564.690002   650.669  535.93\n",
       "1  152.5  634.132  732.599  682.122986   675.297  555.98\n",
       "2   65.0  603.565  733.685  614.021973   667.734  458.02\n",
       "3  108.5  600.491  732.380  685.380005   680.748  542.52\n",
       "4  384.5  607.094  733.564  567.658997   647.071  568.25"
      ]
     },
     "execution_count": 45,
     "metadata": {},
     "output_type": "execute_result"
    }
   ],
   "source": [
    "def loadModelAndPred(data,yTrue=None):\n",
    "    '''加载预测模型进行验证'''\n",
    "    lryPredSklearn = joblib.load('./models/lrModelSklearn.pkl').predict(data)\n",
    "    randomForestyPredSklearn = joblib.load('./models/randomForestModelSklearn.pkl').predict(data)\n",
    "    svryPredSklearn = joblib.load('./models/svrModelSklearn.pkl').predict(data)\n",
    "    xgbyPredSklearn = joblib.load('./models/xgbModelSklearn.pkl').predict(data)\n",
    "    catBoostyPred = joblib.load('./models/catBoostModel.pkl').predict(data)\n",
    "    # 收集预测结果形成csv文件\n",
    "    allModelPreds = {\n",
    "                    '线性回归':lryPredSklearn,\n",
    "                    '随机森林':randomForestyPredSklearn,\n",
    "                    '支持向量机':svryPredSklearn,\n",
    "                    'xgboost':xgbyPredSklearn,\n",
    "                    'catBoost':catBoostyPred\n",
    "    }\n",
    "    allModelPreds = pd.DataFrame(allModelPreds).round(3)\n",
    "    if yTrue is not None:\n",
    "        allModelPreds['真实值'] = yTrue\n",
    "        allModelPreds.to_csv('./data/allModelPredsF2F315.csv', encoding='gbk')\n",
    "    return allModelPreds\n",
    "# \n",
    "# allModelPreds = loadModelAndPred(predData)\n",
    "allModelPreds = loadModelAndPred(xTest.values,yTrue=yTest.values)\n",
    "allModelPreds.head()"
   ]
  },
  {
   "cell_type": "code",
   "execution_count": 46,
   "id": "0fe3bddf",
   "metadata": {
    "pycharm": {
     "name": "#%%\n"
    }
   },
   "outputs": [
    {
     "data": {
      "text/plain": [
       "0.7948521188791539"
      ]
     },
     "execution_count": 46,
     "metadata": {},
     "output_type": "execute_result"
    }
   ],
   "source": [
    "r2_score(allModelPreds['真实值'][:n], allModelPreds['随机森林'][:n])"
   ]
  },
  {
   "cell_type": "code",
   "execution_count": 47,
   "id": "0c600e02",
   "metadata": {
    "pycharm": {
     "name": "#%%\n"
    }
   },
   "outputs": [
    {
     "data": {
      "text/plain": [
       "0.8169658936076059"
      ]
     },
     "execution_count": 47,
     "metadata": {},
     "output_type": "execute_result"
    }
   ],
   "source": [
    "r2_score(allModelPreds['真实值'][n:], allModelPreds['随机森林'][n:])"
   ]
  },
  {
   "cell_type": "markdown",
   "id": "260ab0b0",
   "metadata": {
    "pycharm": {
     "name": "#%% md\n"
    }
   },
   "source": [
    "# 求百分比1-abs(yTrue-yTest)/yTrue"
   ]
  },
  {
   "cell_type": "code",
   "execution_count": 48,
   "id": "ced86f39",
   "metadata": {
    "pycharm": {
     "name": "#%%\n"
    }
   },
   "outputs": [],
   "source": [
    "allModelPredsPercentage = pd.DataFrame()\n",
    "allModelPredsPercentage['xgboostPercent'] = 1- (allModelPreds['真实值'] - allModelPreds['xgboost']).abs()/allModelPreds['真实值']\n",
    "allModelPredsPercentage['catboostPercent'] = 1- (allModelPreds['真实值'] - allModelPreds['catBoost']).abs()/allModelPreds['真实值']\n",
    "allModelPredsPercentage['随机森林Percent'] = 1- (allModelPreds['真实值'] - allModelPreds['随机森林']).abs()/allModelPreds['真实值']\n",
    "\n",
    "allModelPredsPercentage.to_csv('./data/allModelPredsPercentF2F315.csv', encoding='gbk')"
   ]
  },
  {
   "cell_type": "code",
   "execution_count": null,
   "id": "ab696832",
   "metadata": {
    "pycharm": {
     "name": "#%%\n"
    }
   },
   "outputs": [],
   "source": []
  },
  {
   "cell_type": "code",
   "execution_count": null,
   "id": "2b6ac7f3",
   "metadata": {
    "pycharm": {
     "name": "#%%\n"
    }
   },
   "outputs": [],
   "source": []
  },
  {
   "cell_type": "markdown",
   "id": "4e15ad9a",
   "metadata": {
    "pycharm": {
     "name": "#%% md\n"
    }
   },
   "source": [
    "## 求所有的R2数据"
   ]
  },
  {
   "cell_type": "code",
   "execution_count": 49,
   "id": "7b3b15b2",
   "metadata": {
    "pycharm": {
     "name": "#%%\n"
    },
    "scrolled": true
   },
   "outputs": [
    {
     "name": "stdout",
     "output_type": "stream",
     "text": [
      "******************************************************************************************\n",
      "modelname:LinearRegression(),\n",
      "trainR2:0.579,\n",
      "testR2:-0.503\n",
      "[ 6.87257921e-01 -4.68024910e-01 -1.78727545e-02 -2.42049859e-02\n",
      "  2.61742605e-03 -1.91571825e-01 -2.00887849e-01 -2.34795182e+01\n",
      " -9.55382363e+00 -1.58982453e+00 -4.15420752e+02 -4.12791845e+02\n",
      "  4.23028061e+02  1.91208593e+01 -1.05057388e+02 -5.33000704e+09\n",
      " -1.49948648e+11  5.30301525e-04 -4.27021731e+11  2.99344204e+11\n",
      " -1.13521893e+11 -4.27021731e+11  1.57069075e+11 -1.13521893e+11\n",
      " -3.27233913e+11 -1.47776131e+11 -5.77658303e+10 -1.27013835e+11\n",
      "  7.20343082e+11 -5.96828560e+10  1.13699941e+11  6.39237861e+10\n",
      " -8.14519000e+10 -9.88465888e+10  1.86123459e+11 -5.55862854e+10]\n",
      "******************************************************************************************\n",
      "modelname:SVR(),\n",
      "trainR2:-0.127,\n",
      "testR2:-0.111\n",
      "******************************************************************************************\n",
      "modelname:RandomForestRegressor(random_state=1),\n",
      "trainR2:0.982,\n",
      "testR2:0.808\n",
      "******************************************************************************************\n",
      "modelname:XGBRegressor(base_score=None, booster=None, callbacks=None,\n",
      "             colsample_bylevel=None, colsample_bynode=None,\n",
      "             colsample_bytree=None, device=None, early_stopping_rounds=None,\n",
      "             enable_categorical=False, eval_metric=None, feature_types=None,\n",
      "             gamma=None, grow_policy=None, importance_type=None,\n",
      "             interaction_constraints=None, learning_rate=None, max_bin=None,\n",
      "             max_cat_threshold=None, max_cat_to_onehot=None,\n",
      "             max_delta_step=None, max_depth=None, max_leaves=None,\n",
      "             min_child_weight=None, missing=nan, monotone_constraints=None,\n",
      "             multi_strategy=None, n_estimators=None, n_jobs=None,\n",
      "             num_parallel_tree=None, random_state=None, ...),\n",
      "trainR2:1.0,\n",
      "testR2:0.652\n",
      "******************************************************************************************\n",
      "modelname:<catboost.core.CatBoostRegressor object at 0x0000022E4DE82B50>,\n",
      "trainR2:0.998,\n",
      "testR2:0.735\n"
     ]
    },
    {
     "data": {
      "text/plain": [
       "(      线性回归  支持向量机   随机森林  xgboost  catBoost\n",
       " 训练集  0.579 -0.127  0.982    1.000     0.998\n",
       " 测试集 -0.503 -0.111  0.808    0.652     0.735,\n",
       "         线性回归    支持向量机    随机森林  xgboost  catBoost\n",
       " 训练集  234.316  349.935  39.012    0.484    16.430\n",
       " 测试集  245.543  186.574  80.299   98.819    99.099)"
      ]
     },
     "execution_count": 49,
     "metadata": {},
     "output_type": "execute_result"
    }
   ],
   "source": [
    "def createAllModel():\n",
    "    '''集中统一调用,\n",
    "    线性回归模型\t支持向量机模型\t随机森林模型\tXGB模型-->catBoost模型\n",
    "    '''\n",
    "    print('*'*90)\n",
    "    lrMaeTestSklearn, lrMaeTrainSklearn, lrR2TrainSklearn, lrR2TestSklearn, lrModelSklearn, lryPredTestSklearn = createLrModelSklearn()\n",
    "    print('*'*90)\n",
    "    svrMaeTestSklearn, svrMaeTrainSklearn, svrR2TrainSklearn, svrR2TestSklearn, svrModelSklearn, svryPredTestSklearn = createSVRModelSklearn()\n",
    "    print('*'*90)\n",
    "    randomForestMaeTestSklearn, randomForestMaeTrainSklearn, randomForestR2TrainSklearn, randomForestR2TestSklearn, randomForestModelSklearn, randomForestyPredTestSklearn = createRandomForestModelSklearn()\n",
    "    print('*'*90)\n",
    "    xgbMaeTestSklearn, xgbMaeTrainSklearn, xgbR2TrainSklearn, xgbR2TestSklearn, xgbModelSklearn, xgbyPredTestSklearn =createXgbModelSklearn()\n",
    "    print('*'*90)\n",
    "    catBoostMaeTestSklearn, catBoostMaeTrainSklearn, catBoostR2TrainSklearn, catBoostR2TestSklearn, catBoostModelSklearn, catBoostyPredTestSklearn = createCatBoostModel()    \n",
    "    allModelR2 = {\n",
    "                    '线性回归':[lrR2TrainSklearn, lrR2TestSklearn],\n",
    "                    '支持向量机':[svrR2TrainSklearn, svrR2TestSklearn],\n",
    "                    '随机森林':[randomForestR2TrainSklearn, randomForestR2TestSklearn],\n",
    "                    'xgboost':[xgbR2TrainSklearn, xgbR2TestSklearn],\n",
    "                    'catBoost':[catBoostR2TrainSklearn, catBoostR2TestSklearn]\n",
    "    }\n",
    "    allModelR2 = pd.DataFrame(allModelR2,index=['训练集', '测试集'])\n",
    "    allModelR2.to_csv('./data/allModelR2F2F315.csv', encoding='gbk')\n",
    "    allModelMae = {\n",
    "                    '线性回归':[lrMaeTrainSklearn, lrMaeTestSklearn],\n",
    "                    '支持向量机':[svrMaeTrainSklearn, svrMaeTestSklearn],\n",
    "                    '随机森林':[randomForestMaeTrainSklearn, randomForestMaeTestSklearn],\n",
    "                    'xgboost':[xgbMaeTrainSklearn, xgbMaeTestSklearn],\n",
    "                    'catBoost':[catBoostMaeTrainSklearn, catBoostMaeTestSklearn]\n",
    "    }\n",
    "    allModelMae = pd.DataFrame(allModelMae,index=['训练集', '测试集'])\n",
    "    allModelMae.to_csv('./data/allModelMaeF2F315.csv', encoding='gbk')\n",
    "    \n",
    "    return allModelR2, allModelMae\n",
    "createAllModel()    "
   ]
  },
  {
   "cell_type": "markdown",
   "id": "9179b0ec",
   "metadata": {
    "pycharm": {
     "name": "#%% md\n"
    }
   },
   "source": [
    " ## 汇总模型所有特征重要性"
   ]
  },
  {
   "cell_type": "code",
   "execution_count": 50,
   "id": "393a939b",
   "metadata": {
    "pycharm": {
     "name": "#%%\n"
    }
   },
   "outputs": [],
   "source": [
    "def getAllFeaturesImportance(colNames):\n",
    "    '''加载预测模型进行验证'''\n",
    "    randomForestyPredSklearn = joblib.load('./models/randomForestModelSklearn.pkl')\n",
    "    xgbyPredSklearn = joblib.load('./models/xgbModelSklearn.pkl')\n",
    "    catBoostyPred = joblib.load('./models/catBoostModel.pkl')\n",
    "    # 汇总模型所有特征重要性\n",
    "    randomForestFeaturesImportance = getFeaturesImportance(randomForestyPredSklearn, -1.,'randomForest',colNames)\n",
    "    xgbFeaturesImportance = getFeaturesImportance(xgbyPredSklearn, -1.,'xgboost',colNames)\n",
    "    catBoostFeaturesImportance = getFeaturesImportance(catBoostyPred, -1.,'catBoost',colNames)\n",
    "    allFeaturesImportance = pd.concat([randomForestFeaturesImportance,xgbFeaturesImportance,catBoostFeaturesImportance], axis=1)\n",
    "    return allFeaturesImportance"
   ]
  },
  {
   "cell_type": "code",
   "execution_count": 51,
   "id": "45164842",
   "metadata": {
    "pycharm": {
     "name": "#%%\n"
    },
    "scrolled": true
   },
   "outputs": [
    {
     "data": {
      "text/html": [
       "<div>\n",
       "<style scoped>\n",
       "    .dataframe tbody tr th:only-of-type {\n",
       "        vertical-align: middle;\n",
       "    }\n",
       "\n",
       "    .dataframe tbody tr th {\n",
       "        vertical-align: top;\n",
       "    }\n",
       "\n",
       "    .dataframe thead th {\n",
       "        text-align: right;\n",
       "    }\n",
       "</style>\n",
       "<table border=\"1\" class=\"dataframe\">\n",
       "  <thead>\n",
       "    <tr style=\"text-align: right;\">\n",
       "      <th></th>\n",
       "      <th>index</th>\n",
       "      <th>score</th>\n",
       "      <th>index</th>\n",
       "      <th>score</th>\n",
       "      <th>index</th>\n",
       "      <th>score</th>\n",
       "    </tr>\n",
       "  </thead>\n",
       "  <tbody>\n",
       "    <tr>\n",
       "      <th>0</th>\n",
       "      <td>dist_in_hard</td>\n",
       "      <td>0.463189</td>\n",
       "      <td>dist_in_hard</td>\n",
       "      <td>0.470910</td>\n",
       "      <td>dist_in_hard</td>\n",
       "      <td>32.340645</td>\n",
       "    </tr>\n",
       "    <tr>\n",
       "      <th>1</th>\n",
       "      <td>dist_out_in</td>\n",
       "      <td>0.244732</td>\n",
       "      <td>dist_out_in</td>\n",
       "      <td>0.184840</td>\n",
       "      <td>dist_out_in</td>\n",
       "      <td>13.806354</td>\n",
       "    </tr>\n",
       "    <tr>\n",
       "      <th>2</th>\n",
       "      <td>bonnet_YR</td>\n",
       "      <td>0.037105</td>\n",
       "      <td>head_A</td>\n",
       "      <td>0.062159</td>\n",
       "      <td>point_Z</td>\n",
       "      <td>7.065687</td>\n",
       "    </tr>\n",
       "    <tr>\n",
       "      <th>3</th>\n",
       "      <td>point_X</td>\n",
       "      <td>0.034100</td>\n",
       "      <td>Izz</td>\n",
       "      <td>0.038364</td>\n",
       "      <td>bonnet_YL</td>\n",
       "      <td>6.729782</td>\n",
       "    </tr>\n",
       "    <tr>\n",
       "      <th>4</th>\n",
       "      <td>Iyy</td>\n",
       "      <td>0.033311</td>\n",
       "      <td>JL_X</td>\n",
       "      <td>0.035500</td>\n",
       "      <td>point_Y</td>\n",
       "      <td>5.953181</td>\n",
       "    </tr>\n",
       "    <tr>\n",
       "      <th>5</th>\n",
       "      <td>Izz</td>\n",
       "      <td>0.032490</td>\n",
       "      <td>Iyy</td>\n",
       "      <td>0.035119</td>\n",
       "      <td>bonnet_YR</td>\n",
       "      <td>5.349373</td>\n",
       "    </tr>\n",
       "    <tr>\n",
       "      <th>6</th>\n",
       "      <td>bonnet_A</td>\n",
       "      <td>0.028041</td>\n",
       "      <td>B_LF_X</td>\n",
       "      <td>0.032670</td>\n",
       "      <td>point_X</td>\n",
       "      <td>4.430158</td>\n",
       "    </tr>\n",
       "    <tr>\n",
       "      <th>7</th>\n",
       "      <td>bonnet_YL</td>\n",
       "      <td>0.026338</td>\n",
       "      <td>bonnet_YR</td>\n",
       "      <td>0.026345</td>\n",
       "      <td>Ixx</td>\n",
       "      <td>4.179116</td>\n",
       "    </tr>\n",
       "    <tr>\n",
       "      <th>8</th>\n",
       "      <td>Ixx</td>\n",
       "      <td>0.020170</td>\n",
       "      <td>Ixx</td>\n",
       "      <td>0.026082</td>\n",
       "      <td>bonnet_A</td>\n",
       "      <td>4.161336</td>\n",
       "    </tr>\n",
       "    <tr>\n",
       "      <th>9</th>\n",
       "      <td>bonnet_XR</td>\n",
       "      <td>0.018871</td>\n",
       "      <td>point_X</td>\n",
       "      <td>0.022769</td>\n",
       "      <td>Iyy</td>\n",
       "      <td>3.079404</td>\n",
       "    </tr>\n",
       "    <tr>\n",
       "      <th>10</th>\n",
       "      <td>point_Y</td>\n",
       "      <td>0.017716</td>\n",
       "      <td>bonnet_XR</td>\n",
       "      <td>0.013122</td>\n",
       "      <td>bonnet_XR</td>\n",
       "      <td>2.806355</td>\n",
       "    </tr>\n",
       "    <tr>\n",
       "      <th>11</th>\n",
       "      <td>point_Z</td>\n",
       "      <td>0.017224</td>\n",
       "      <td>point_Y</td>\n",
       "      <td>0.010419</td>\n",
       "      <td>bonnet_XF</td>\n",
       "      <td>2.779388</td>\n",
       "    </tr>\n",
       "    <tr>\n",
       "      <th>12</th>\n",
       "      <td>bonnet_XF</td>\n",
       "      <td>0.014480</td>\n",
       "      <td>bonnet_YL</td>\n",
       "      <td>0.010296</td>\n",
       "      <td>Izz</td>\n",
       "      <td>1.222251</td>\n",
       "    </tr>\n",
       "    <tr>\n",
       "      <th>13</th>\n",
       "      <td>head_A</td>\n",
       "      <td>0.002335</td>\n",
       "      <td>bonnet_XF</td>\n",
       "      <td>0.009426</td>\n",
       "      <td>head_A</td>\n",
       "      <td>1.169304</td>\n",
       "    </tr>\n",
       "    <tr>\n",
       "      <th>14</th>\n",
       "      <td>B_RF_Z</td>\n",
       "      <td>0.001308</td>\n",
       "      <td>head_M</td>\n",
       "      <td>0.008158</td>\n",
       "      <td>B_RR_X</td>\n",
       "      <td>0.423119</td>\n",
       "    </tr>\n",
       "    <tr>\n",
       "      <th>15</th>\n",
       "      <td>B_RF_Y</td>\n",
       "      <td>0.001234</td>\n",
       "      <td>point_Z</td>\n",
       "      <td>0.007194</td>\n",
       "      <td>head_M</td>\n",
       "      <td>0.389349</td>\n",
       "    </tr>\n",
       "    <tr>\n",
       "      <th>16</th>\n",
       "      <td>B_LF_Z</td>\n",
       "      <td>0.000765</td>\n",
       "      <td>bonnet_A</td>\n",
       "      <td>0.004945</td>\n",
       "      <td>B_RR_Y</td>\n",
       "      <td>0.381452</td>\n",
       "    </tr>\n",
       "    <tr>\n",
       "      <th>17</th>\n",
       "      <td>B_LF_Y</td>\n",
       "      <td>0.000763</td>\n",
       "      <td>JL_Z</td>\n",
       "      <td>0.001682</td>\n",
       "      <td>LL_Y</td>\n",
       "      <td>0.370078</td>\n",
       "    </tr>\n",
       "    <tr>\n",
       "      <th>18</th>\n",
       "      <td>B_LF_X</td>\n",
       "      <td>0.000684</td>\n",
       "      <td>B_LR_Z</td>\n",
       "      <td>0.000000</td>\n",
       "      <td>B_LR_X</td>\n",
       "      <td>0.356603</td>\n",
       "    </tr>\n",
       "    <tr>\n",
       "      <th>19</th>\n",
       "      <td>B_RR_Z</td>\n",
       "      <td>0.000514</td>\n",
       "      <td>B_RF_X</td>\n",
       "      <td>0.000000</td>\n",
       "      <td>B_RF_X</td>\n",
       "      <td>0.318683</td>\n",
       "    </tr>\n",
       "    <tr>\n",
       "      <th>20</th>\n",
       "      <td>B_RF_X</td>\n",
       "      <td>0.000511</td>\n",
       "      <td>B_RR_Z</td>\n",
       "      <td>0.000000</td>\n",
       "      <td>B_LR_Z</td>\n",
       "      <td>0.283280</td>\n",
       "    </tr>\n",
       "    <tr>\n",
       "      <th>21</th>\n",
       "      <td>head_M</td>\n",
       "      <td>0.000494</td>\n",
       "      <td>B_RR_Y</td>\n",
       "      <td>0.000000</td>\n",
       "      <td>B_RR_Z</td>\n",
       "      <td>0.259815</td>\n",
       "    </tr>\n",
       "    <tr>\n",
       "      <th>22</th>\n",
       "      <td>B_LR_X</td>\n",
       "      <td>0.000487</td>\n",
       "      <td>B_RR_X</td>\n",
       "      <td>0.000000</td>\n",
       "      <td>JL_Z</td>\n",
       "      <td>0.254392</td>\n",
       "    </tr>\n",
       "    <tr>\n",
       "      <th>23</th>\n",
       "      <td>LR_Y</td>\n",
       "      <td>0.000476</td>\n",
       "      <td>B_LF_Z</td>\n",
       "      <td>0.000000</td>\n",
       "      <td>B_RF_Z</td>\n",
       "      <td>0.211035</td>\n",
       "    </tr>\n",
       "    <tr>\n",
       "      <th>24</th>\n",
       "      <td>LR_X</td>\n",
       "      <td>0.000439</td>\n",
       "      <td>B_LF_Y</td>\n",
       "      <td>0.000000</td>\n",
       "      <td>B_LF_X</td>\n",
       "      <td>0.205547</td>\n",
       "    </tr>\n",
       "    <tr>\n",
       "      <th>25</th>\n",
       "      <td>B_RR_Y</td>\n",
       "      <td>0.000409</td>\n",
       "      <td>B_RF_Y</td>\n",
       "      <td>0.000000</td>\n",
       "      <td>B_LR_Y</td>\n",
       "      <td>0.201573</td>\n",
       "    </tr>\n",
       "    <tr>\n",
       "      <th>26</th>\n",
       "      <td>B_LR_Z</td>\n",
       "      <td>0.000345</td>\n",
       "      <td>LL_X</td>\n",
       "      <td>0.000000</td>\n",
       "      <td>B_LF_Y</td>\n",
       "      <td>0.181777</td>\n",
       "    </tr>\n",
       "    <tr>\n",
       "      <th>27</th>\n",
       "      <td>LR_Z</td>\n",
       "      <td>0.000320</td>\n",
       "      <td>B_LR_Y</td>\n",
       "      <td>0.000000</td>\n",
       "      <td>B_LF_Z</td>\n",
       "      <td>0.172762</td>\n",
       "    </tr>\n",
       "    <tr>\n",
       "      <th>28</th>\n",
       "      <td>LL_Y</td>\n",
       "      <td>0.000313</td>\n",
       "      <td>B_LR_X</td>\n",
       "      <td>0.000000</td>\n",
       "      <td>LL_X</td>\n",
       "      <td>0.172076</td>\n",
       "    </tr>\n",
       "    <tr>\n",
       "      <th>29</th>\n",
       "      <td>JL_Y</td>\n",
       "      <td>0.000232</td>\n",
       "      <td>LR_Z</td>\n",
       "      <td>0.000000</td>\n",
       "      <td>B_RF_Y</td>\n",
       "      <td>0.164119</td>\n",
       "    </tr>\n",
       "    <tr>\n",
       "      <th>30</th>\n",
       "      <td>B_RR_X</td>\n",
       "      <td>0.000196</td>\n",
       "      <td>LR_Y</td>\n",
       "      <td>0.000000</td>\n",
       "      <td>JL_X</td>\n",
       "      <td>0.143631</td>\n",
       "    </tr>\n",
       "    <tr>\n",
       "      <th>31</th>\n",
       "      <td>B_LR_Y</td>\n",
       "      <td>0.000174</td>\n",
       "      <td>LR_X</td>\n",
       "      <td>0.000000</td>\n",
       "      <td>LL_Z</td>\n",
       "      <td>0.125808</td>\n",
       "    </tr>\n",
       "    <tr>\n",
       "      <th>32</th>\n",
       "      <td>LL_X</td>\n",
       "      <td>0.000145</td>\n",
       "      <td>LL_Z</td>\n",
       "      <td>0.000000</td>\n",
       "      <td>LR_Y</td>\n",
       "      <td>0.116023</td>\n",
       "    </tr>\n",
       "    <tr>\n",
       "      <th>33</th>\n",
       "      <td>LL_Z</td>\n",
       "      <td>0.000090</td>\n",
       "      <td>LL_Y</td>\n",
       "      <td>0.000000</td>\n",
       "      <td>LR_Z</td>\n",
       "      <td>0.097505</td>\n",
       "    </tr>\n",
       "    <tr>\n",
       "      <th>34</th>\n",
       "      <td>JL_Z</td>\n",
       "      <td>0.000000</td>\n",
       "      <td>JL_Y</td>\n",
       "      <td>0.000000</td>\n",
       "      <td>LR_X</td>\n",
       "      <td>0.060273</td>\n",
       "    </tr>\n",
       "    <tr>\n",
       "      <th>35</th>\n",
       "      <td>JL_X</td>\n",
       "      <td>0.000000</td>\n",
       "      <td>B_RF_Z</td>\n",
       "      <td>0.000000</td>\n",
       "      <td>JL_Y</td>\n",
       "      <td>0.038765</td>\n",
       "    </tr>\n",
       "  </tbody>\n",
       "</table>\n",
       "</div>"
      ],
      "text/plain": [
       "           index     score         index     score         index      score\n",
       "0   dist_in_hard  0.463189  dist_in_hard  0.470910  dist_in_hard  32.340645\n",
       "1    dist_out_in  0.244732   dist_out_in  0.184840   dist_out_in  13.806354\n",
       "2      bonnet_YR  0.037105        head_A  0.062159       point_Z   7.065687\n",
       "3        point_X  0.034100           Izz  0.038364     bonnet_YL   6.729782\n",
       "4            Iyy  0.033311          JL_X  0.035500       point_Y   5.953181\n",
       "5            Izz  0.032490           Iyy  0.035119     bonnet_YR   5.349373\n",
       "6       bonnet_A  0.028041        B_LF_X  0.032670       point_X   4.430158\n",
       "7      bonnet_YL  0.026338     bonnet_YR  0.026345           Ixx   4.179116\n",
       "8            Ixx  0.020170           Ixx  0.026082      bonnet_A   4.161336\n",
       "9      bonnet_XR  0.018871       point_X  0.022769           Iyy   3.079404\n",
       "10       point_Y  0.017716     bonnet_XR  0.013122     bonnet_XR   2.806355\n",
       "11       point_Z  0.017224       point_Y  0.010419     bonnet_XF   2.779388\n",
       "12     bonnet_XF  0.014480     bonnet_YL  0.010296           Izz   1.222251\n",
       "13        head_A  0.002335     bonnet_XF  0.009426        head_A   1.169304\n",
       "14        B_RF_Z  0.001308        head_M  0.008158        B_RR_X   0.423119\n",
       "15        B_RF_Y  0.001234       point_Z  0.007194        head_M   0.389349\n",
       "16        B_LF_Z  0.000765      bonnet_A  0.004945        B_RR_Y   0.381452\n",
       "17        B_LF_Y  0.000763          JL_Z  0.001682          LL_Y   0.370078\n",
       "18        B_LF_X  0.000684        B_LR_Z  0.000000        B_LR_X   0.356603\n",
       "19        B_RR_Z  0.000514        B_RF_X  0.000000        B_RF_X   0.318683\n",
       "20        B_RF_X  0.000511        B_RR_Z  0.000000        B_LR_Z   0.283280\n",
       "21        head_M  0.000494        B_RR_Y  0.000000        B_RR_Z   0.259815\n",
       "22        B_LR_X  0.000487        B_RR_X  0.000000          JL_Z   0.254392\n",
       "23          LR_Y  0.000476        B_LF_Z  0.000000        B_RF_Z   0.211035\n",
       "24          LR_X  0.000439        B_LF_Y  0.000000        B_LF_X   0.205547\n",
       "25        B_RR_Y  0.000409        B_RF_Y  0.000000        B_LR_Y   0.201573\n",
       "26        B_LR_Z  0.000345          LL_X  0.000000        B_LF_Y   0.181777\n",
       "27          LR_Z  0.000320        B_LR_Y  0.000000        B_LF_Z   0.172762\n",
       "28          LL_Y  0.000313        B_LR_X  0.000000          LL_X   0.172076\n",
       "29          JL_Y  0.000232          LR_Z  0.000000        B_RF_Y   0.164119\n",
       "30        B_RR_X  0.000196          LR_Y  0.000000          JL_X   0.143631\n",
       "31        B_LR_Y  0.000174          LR_X  0.000000          LL_Z   0.125808\n",
       "32          LL_X  0.000145          LL_Z  0.000000          LR_Y   0.116023\n",
       "33          LL_Z  0.000090          LL_Y  0.000000          LR_Z   0.097505\n",
       "34          JL_Z  0.000000          JL_Y  0.000000          LR_X   0.060273\n",
       "35          JL_X  0.000000        B_RF_Z  0.000000          JL_Y   0.038765"
      ]
     },
     "execution_count": 51,
     "metadata": {},
     "output_type": "execute_result"
    }
   ],
   "source": [
    "getAllFeaturesImportance(colNames)"
   ]
  },
  {
   "cell_type": "markdown",
   "id": "23669c10",
   "metadata": {
    "pycharm": {
     "name": "#%% md\n"
    }
   },
   "source": [
    "# Optuna模型调参"
   ]
  },
  {
   "cell_type": "code",
   "execution_count": 532,
   "id": "5b09e9df",
   "metadata": {
    "pycharm": {
     "name": "#%%\n"
    }
   },
   "outputs": [],
   "source": [
    "import optuna\n",
    "import xgboost as xgb\n",
    "import sklearn\n",
    "import lightgbm as lgb\n",
    "from optuna.visualization import plot_optimization_history\n",
    "from optuna.visualization import plot_parallel_coordinate\n",
    "from optuna.visualization import plot_intermediate_values\n",
    "from optuna.visualization import plot_param_importances\n",
    "from optuna.visualization import plot_rank\n",
    "from optuna.visualization import plot_slice\n",
    "from optuna.visualization import plot_timeline"
   ]
  },
  {
   "cell_type": "code",
   "execution_count": 533,
   "id": "4a2c240e",
   "metadata": {
    "pycharm": {
     "name": "#%%\n"
    }
   },
   "outputs": [],
   "source": [
    "SEED = 42\n",
    "np.random.seed(SEED)"
   ]
  },
  {
   "cell_type": "code",
   "execution_count": 534,
   "id": "8a0f37d6",
   "metadata": {
    "pycharm": {
     "name": "#%%\n"
    }
   },
   "outputs": [],
   "source": [
    "def createStudy(Objective, studyName):\n",
    "    study = optuna.create_study(\n",
    "        direction=\"minimize\",\n",
    "        sampler=optuna.samplers.TPESampler(seed=SEED),\n",
    "        pruner=optuna.pruners.MedianPruner(n_warmup_steps=10),\n",
    "        storage=\"sqlite:///db.sqlite3\",  # Specify the storage URL here.\n",
    "        study_name=studyName,\n",
    "        load_if_exists=True\n",
    "    )\n",
    "    study.optimize(Objective, n_trials=10, timeout=600)\n",
    "    return study"
   ]
  },
  {
   "cell_type": "code",
   "execution_count": 535,
   "id": "22884181",
   "metadata": {
    "pycharm": {
     "name": "#%%\n"
    }
   },
   "outputs": [],
   "source": [
    "def lgbObjective(trial):\n",
    "    dtrain = lgb.Dataset(xTrain, label=yTrain)\n",
    "    dvalid = lgb.Dataset(xTest, label=yTest)\n",
    "\n",
    "    param = {\n",
    "        \"objective\": \"regression\",\n",
    "        \"metric\": \"rmse\",\n",
    "        \"verbosity\": -1,\n",
    "        \"boosting_type\": \"gbdt\",\n",
    "        \"num_iterations\":trial.suggest_int('num_iterations', 5, 20),\n",
    "#         \"learning_rate\":trial.suggest_float(\"learning_rate\",0.01, 0.1, step=0.01),\n",
    "        \"num_leaves\":trial.suggest_int('num_leaves', 24, 64),\n",
    "    }\n",
    "    \n",
    "    # Add a callback for pruning.\n",
    "    pruning_callback = optuna.integration.LightGBMPruningCallback(trial, \"rmse\")\n",
    "    gbm = lgb.train(param, dtrain, valid_sets=[dvalid], callbacks=[pruning_callback])\n",
    "    \n",
    "    preds = gbm.predict(xTest)\n",
    "#     pred_labels = np.rint(preds)\n",
    "    mae = sklearn.metrics.mean_absolute_error(yTest, preds)\n",
    "    return mae"
   ]
  },
  {
   "cell_type": "code",
   "execution_count": 536,
   "id": "f2c511ba",
   "metadata": {
    "pycharm": {
     "name": "#%%\n"
    },
    "scrolled": true
   },
   "outputs": [
    {
     "name": "stderr",
     "output_type": "stream",
     "text": [
      "[I 2024-01-18 10:37:14,501] Using an existing study with name 'lgbModel' instead of creating a new one.\n",
      "[I 2024-01-18 10:37:15,584] Trial 72 pruned. Trial was pruned at iteration 15.\n",
      "[I 2024-01-18 10:37:16,127] Trial 73 finished with value: 163.51609476307598 and parameters: {'num_iterations': 5, 'num_leaves': 38}. Best is trial 23 with value: -0.3130250037724056.\n",
      "[I 2024-01-18 10:37:16,801] Trial 74 finished with value: 156.91105288375505 and parameters: {'num_iterations': 6, 'num_leaves': 56}. Best is trial 23 with value: -0.3130250037724056.\n",
      "[I 2024-01-18 10:37:17,388] Trial 75 finished with value: 163.51609476307598 and parameters: {'num_iterations': 5, 'num_leaves': 62}. Best is trial 23 with value: -0.3130250037724056.\n",
      "[I 2024-01-18 10:37:18,349] Trial 76 finished with value: 127.54172996634175 and parameters: {'num_iterations': 14, 'num_leaves': 50}. Best is trial 23 with value: -0.3130250037724056.\n",
      "[I 2024-01-18 10:37:18,913] Trial 77 finished with value: 156.91105288375505 and parameters: {'num_iterations': 6, 'num_leaves': 42}. Best is trial 23 with value: -0.3130250037724056.\n",
      "[I 2024-01-18 10:37:19,433] Trial 78 finished with value: 163.51609476307598 and parameters: {'num_iterations': 5, 'num_leaves': 31}. Best is trial 23 with value: -0.3130250037724056.\n",
      "[I 2024-01-18 10:37:20,097] Trial 79 finished with value: 146.2815334532637 and parameters: {'num_iterations': 8, 'num_leaves': 37}. Best is trial 23 with value: -0.3130250037724056.\n",
      "[I 2024-01-18 10:37:20,701] Trial 80 finished with value: 149.93497622210268 and parameters: {'num_iterations': 7, 'num_leaves': 26}. Best is trial 23 with value: -0.3130250037724056.\n",
      "[I 2024-01-18 10:37:21,227] Trial 81 finished with value: 156.91105288375505 and parameters: {'num_iterations': 6, 'num_leaves': 46}. Best is trial 23 with value: -0.3130250037724056.\n"
     ]
    }
   ],
   "source": [
    "lgbStudy = createStudy(lgbObjective, 'lgbModel')"
   ]
  },
  {
   "cell_type": "code",
   "execution_count": 537,
   "id": "ef50f084",
   "metadata": {
    "pycharm": {
     "name": "#%%\n"
    },
    "scrolled": true
   },
   "outputs": [
    {
     "data": {
      "text/plain": [
       "{'num_iterations': 6, 'learning_rate': 0.02}"
      ]
     },
     "execution_count": 537,
     "metadata": {},
     "output_type": "execute_result"
    }
   ],
   "source": [
    "lgbStudy.best_params"
   ]
  },
  {
   "cell_type": "code",
   "execution_count": 538,
   "id": "7776d7dd",
   "metadata": {
    "pycharm": {
     "name": "#%%\n"
    }
   },
   "outputs": [],
   "source": [
    "def xgbObjective(trial):\n",
    "#     data, target = sklearn.datasets.load_breast_cancer(return_X_y=True)\n",
    "#     train_x, valid_x, train_y, valid_y = train_test_split(data, target, test_size=0.25)\n",
    "    dtrain = xgb.DMatrix(xTrain, label=yTrain)\n",
    "    dvalid = xgb.DMatrix(xTest, label=yTest)\n",
    "\n",
    "    param = {\n",
    "        \"verbosity\": 0,\n",
    "        \"objective\": \"reg:squarederror\",\n",
    "        \"eval_metric\": \"rmse\",\n",
    "        \"booster\": trial.suggest_categorical(\"booster\", [\"gbtree\", \"gblinear\", \"dart\"]),\n",
    "        \"lambda\": trial.suggest_float(\"lambda\", 1e-8, 1.0, log=True),\n",
    "        \"alpha\": trial.suggest_float(\"alpha\", 1e-8, 1.0, log=True),\n",
    "    }\n",
    "    \n",
    "    # Add a callback for pruning.\n",
    "    pruning_callback = optuna.integration.XGBoostPruningCallback(trial, \"validation-rmse\")\n",
    "    bst = xgb.train(param, dtrain, evals=[(dvalid, \"validation\")], callbacks=[pruning_callback])\n",
    "    \n",
    "    preds = bst.predict(dvalid)\n",
    "#     pred_labels = np.rint(preds)\n",
    "    accuracy = sklearn.metrics.r2_score(yTest, preds)\n",
    "    return accuracy"
   ]
  },
  {
   "cell_type": "code",
   "execution_count": 539,
   "id": "3565ef42",
   "metadata": {
    "pycharm": {
     "name": "#%%\n"
    },
    "scrolled": true
   },
   "outputs": [
    {
     "name": "stderr",
     "output_type": "stream",
     "text": [
      "[I 2024-01-18 10:37:21,497] Using an existing study with name 'xgbModel' instead of creating a new one.\n"
     ]
    },
    {
     "name": "stdout",
     "output_type": "stream",
     "text": [
      "[0]\tvalidation-rmse:216.18308\n",
      "[1]\tvalidation-rmse:180.28160\n",
      "[2]\tvalidation-rmse:157.85733\n",
      "[3]\tvalidation-rmse:147.66933\n",
      "[4]\tvalidation-rmse:140.33647\n",
      "[5]\tvalidation-rmse:136.72529\n",
      "[6]\tvalidation-rmse:135.05938\n",
      "[7]\tvalidation-rmse:137.26320\n",
      "[8]\tvalidation-rmse:136.09527\n",
      "[9]\tvalidation-rmse:134.23386\n"
     ]
    },
    {
     "name": "stderr",
     "output_type": "stream",
     "text": [
      "[I 2024-01-18 10:37:22,391] Trial 20 finished with value: 0.6582742081091648 and parameters: {'booster': 'dart', 'lambda': 0.00397191622061199, 'alpha': 0.04961893617283787}. Best is trial 13 with value: 0.07420710345856452.\n"
     ]
    },
    {
     "name": "stdout",
     "output_type": "stream",
     "text": [
      "[0]\tvalidation-rmse:211.30712\n",
      "[1]\tvalidation-rmse:264.83323\n",
      "[2]\tvalidation-rmse:365.87072\n",
      "[3]\tvalidation-rmse:480.36342\n",
      "[4]\tvalidation-rmse:371.70337\n",
      "[5]\tvalidation-rmse:300.82288\n",
      "[6]\tvalidation-rmse:269.57730\n",
      "[7]\tvalidation-rmse:253.39287\n",
      "[8]\tvalidation-rmse:225.11639\n",
      "[9]\tvalidation-rmse:212.19134\n"
     ]
    },
    {
     "name": "stderr",
     "output_type": "stream",
     "text": [
      "[I 2024-01-18 10:37:23,174] Trial 21 finished with value: 0.14609623892040324 and parameters: {'booster': 'gblinear', 'lambda': 0.7427947773182157, 'alpha': 0.0032144168068598215}. Best is trial 13 with value: 0.07420710345856452.\n"
     ]
    },
    {
     "name": "stdout",
     "output_type": "stream",
     "text": [
      "[0]\tvalidation-rmse:217.79156\n",
      "[1]\tvalidation-rmse:208.11846\n",
      "[2]\tvalidation-rmse:204.21990\n",
      "[3]\tvalidation-rmse:200.12351\n",
      "[4]\tvalidation-rmse:195.52020\n",
      "[5]\tvalidation-rmse:196.08357\n",
      "[6]\tvalidation-rmse:194.09043\n",
      "[7]\tvalidation-rmse:192.34864\n",
      "[8]\tvalidation-rmse:190.45187\n",
      "[9]\tvalidation-rmse:187.50739\n"
     ]
    },
    {
     "name": "stderr",
     "output_type": "stream",
     "text": [
      "[I 2024-01-18 10:37:24,169] Trial 22 finished with value: 0.33320793881729815 and parameters: {'booster': 'gblinear', 'lambda': 0.7596425353415649, 'alpha': 0.001611439403241123}. Best is trial 13 with value: 0.07420710345856452.\n"
     ]
    },
    {
     "name": "stdout",
     "output_type": "stream",
     "text": [
      "[0]\tvalidation-rmse:206.80512\n",
      "[1]\tvalidation-rmse:213.84811\n",
      "[2]\tvalidation-rmse:205.10214\n",
      "[3]\tvalidation-rmse:201.53956\n",
      "[4]\tvalidation-rmse:196.42329\n",
      "[5]\tvalidation-rmse:195.39189\n",
      "[6]\tvalidation-rmse:189.39354\n",
      "[7]\tvalidation-rmse:188.26395\n",
      "[8]\tvalidation-rmse:186.94264\n",
      "[9]\tvalidation-rmse:188.32699\n"
     ]
    },
    {
     "name": "stderr",
     "output_type": "stream",
     "text": [
      "[I 2024-01-18 10:37:25,150] Trial 23 finished with value: 0.32736605392008256 and parameters: {'booster': 'gblinear', 'lambda': 0.07437252219934079, 'alpha': 0.03324391905034086}. Best is trial 13 with value: 0.07420710345856452.\n"
     ]
    },
    {
     "name": "stdout",
     "output_type": "stream",
     "text": [
      "[0]\tvalidation-rmse:217.65603\n",
      "[1]\tvalidation-rmse:206.51900\n",
      "[2]\tvalidation-rmse:195.53208\n",
      "[3]\tvalidation-rmse:206.76433\n",
      "[4]\tvalidation-rmse:199.36335\n",
      "[5]\tvalidation-rmse:195.57218\n",
      "[6]\tvalidation-rmse:188.29679\n",
      "[7]\tvalidation-rmse:190.00911\n",
      "[8]\tvalidation-rmse:183.09771\n",
      "[9]\tvalidation-rmse:183.60297\n"
     ]
    },
    {
     "name": "stderr",
     "output_type": "stream",
     "text": [
      "[I 2024-01-18 10:37:26,032] Trial 24 finished with value: 0.3606877614928067 and parameters: {'booster': 'gblinear', 'lambda': 0.8621187089043828, 'alpha': 0.012155975205656451}. Best is trial 13 with value: 0.07420710345856452.\n"
     ]
    },
    {
     "name": "stdout",
     "output_type": "stream",
     "text": [
      "[0]\tvalidation-rmse:211.77845\n",
      "[1]\tvalidation-rmse:215.79988\n",
      "[2]\tvalidation-rmse:196.35550\n",
      "[3]\tvalidation-rmse:193.62409\n",
      "[4]\tvalidation-rmse:194.85007\n",
      "[5]\tvalidation-rmse:189.99901\n",
      "[6]\tvalidation-rmse:185.11352\n",
      "[7]\tvalidation-rmse:186.31969\n",
      "[8]\tvalidation-rmse:184.08752\n",
      "[9]\tvalidation-rmse:180.09521\n"
     ]
    },
    {
     "name": "stderr",
     "output_type": "stream",
     "text": [
      "[I 2024-01-18 10:37:26,935] Trial 25 finished with value: 0.38488270857241236 and parameters: {'booster': 'gblinear', 'lambda': 0.004318574539429719, 'alpha': 1.2026584820344391e-05}. Best is trial 13 with value: 0.07420710345856452.\n"
     ]
    },
    {
     "name": "stdout",
     "output_type": "stream",
     "text": [
      "[0]\tvalidation-rmse:209.75973\n",
      "[1]\tvalidation-rmse:211.12801\n",
      "[2]\tvalidation-rmse:206.58770\n",
      "[3]\tvalidation-rmse:197.16833\n",
      "[4]\tvalidation-rmse:196.00006\n",
      "[5]\tvalidation-rmse:193.10888\n",
      "[6]\tvalidation-rmse:190.67787\n",
      "[7]\tvalidation-rmse:189.53680\n",
      "[8]\tvalidation-rmse:185.50971\n",
      "[9]\tvalidation-rmse:180.49411\n"
     ]
    },
    {
     "name": "stderr",
     "output_type": "stream",
     "text": [
      "[I 2024-01-18 10:37:27,856] Trial 26 finished with value: 0.38215480530457 and parameters: {'booster': 'gblinear', 'lambda': 0.1245613877394783, 'alpha': 0.0014280362421945966}. Best is trial 13 with value: 0.07420710345856452.\n"
     ]
    },
    {
     "name": "stdout",
     "output_type": "stream",
     "text": [
      "[0]\tvalidation-rmse:216.35247\n",
      "[1]\tvalidation-rmse:209.17506\n",
      "[2]\tvalidation-rmse:207.87391\n",
      "[3]\tvalidation-rmse:193.39140\n",
      "[4]\tvalidation-rmse:198.99522\n",
      "[5]\tvalidation-rmse:188.84738\n",
      "[6]\tvalidation-rmse:189.68009\n",
      "[7]\tvalidation-rmse:186.96519\n",
      "[8]\tvalidation-rmse:183.25419\n",
      "[9]\tvalidation-rmse:181.40348\n"
     ]
    },
    {
     "name": "stderr",
     "output_type": "stream",
     "text": [
      "[I 2024-01-18 10:37:28,827] Trial 27 finished with value: 0.3759133850757702 and parameters: {'booster': 'gblinear', 'lambda': 0.030871238774860178, 'alpha': 9.296735976699578e-05}. Best is trial 13 with value: 0.07420710345856452.\n"
     ]
    },
    {
     "name": "stdout",
     "output_type": "stream",
     "text": [
      "[0]\tvalidation-rmse:216.26905\n",
      "[1]\tvalidation-rmse:180.37686\n",
      "[2]\tvalidation-rmse:161.54900\n",
      "[3]\tvalidation-rmse:160.24836\n",
      "[4]\tvalidation-rmse:155.40021\n",
      "[5]\tvalidation-rmse:156.15073\n",
      "[6]\tvalidation-rmse:158.21801\n",
      "[7]\tvalidation-rmse:160.31851\n",
      "[8]\tvalidation-rmse:160.26608\n",
      "[9]\tvalidation-rmse:160.81262\n"
     ]
    },
    {
     "name": "stderr",
     "output_type": "stream",
     "text": [
      "[I 2024-01-18 10:37:29,836] Trial 28 finished with value: 0.5095509609790401 and parameters: {'booster': 'dart', 'lambda': 1.483496443022783e-05, 'alpha': 0.001014762977001402}. Best is trial 13 with value: 0.07420710345856452.\n"
     ]
    },
    {
     "name": "stdout",
     "output_type": "stream",
     "text": [
      "[0]\tvalidation-rmse:222.86697\n",
      "[1]\tvalidation-rmse:206.03081\n",
      "[2]\tvalidation-rmse:196.06102\n",
      "[3]\tvalidation-rmse:199.93217\n",
      "[4]\tvalidation-rmse:197.82771\n",
      "[5]\tvalidation-rmse:194.70151\n",
      "[6]\tvalidation-rmse:185.70220\n",
      "[7]\tvalidation-rmse:185.81362\n",
      "[8]\tvalidation-rmse:186.82873\n",
      "[9]\tvalidation-rmse:183.61599\n"
     ]
    },
    {
     "name": "stderr",
     "output_type": "stream",
     "text": [
      "[I 2024-01-18 10:37:30,770] Trial 29 finished with value: 0.3605970880528221 and parameters: {'booster': 'gblinear', 'lambda': 1.095448975673388e-06, 'alpha': 0.2718118695958609}. Best is trial 13 with value: 0.07420710345856452.\n"
     ]
    }
   ],
   "source": [
    "xgbStudy = createStudy(xgbObjective, 'xgbModel')"
   ]
  },
  {
   "cell_type": "code",
   "execution_count": 104,
   "id": "b777ce96",
   "metadata": {
    "pycharm": {
     "name": "#%%\n"
    }
   },
   "outputs": [
    {
     "data": {
      "text/plain": [
       "{'booster': 'gblinear',\n",
       " 'lambda': 0.9255565589329271,\n",
       " 'alpha': 0.0033501824891589522}"
      ]
     },
     "execution_count": 104,
     "metadata": {},
     "output_type": "execute_result"
    }
   ],
   "source": [
    "xgbStudy.best_params"
   ]
  },
  {
   "cell_type": "code",
   "execution_count": null,
   "id": "56e7fa7a",
   "metadata": {
    "pycharm": {
     "name": "#%%\n"
    }
   },
   "outputs": [],
   "source": []
  },
  {
   "cell_type": "code",
   "execution_count": null,
   "id": "b018f1e1",
   "metadata": {
    "pycharm": {
     "name": "#%%\n"
    }
   },
   "outputs": [],
   "source": []
  },
  {
   "cell_type": "code",
   "execution_count": null,
   "id": "e0676e2c",
   "metadata": {
    "pycharm": {
     "name": "#%%\n"
    }
   },
   "outputs": [],
   "source": []
  },
  {
   "cell_type": "code",
   "execution_count": null,
   "id": "d0c96b81",
   "metadata": {
    "pycharm": {
     "name": "#%%\n"
    }
   },
   "outputs": [],
   "source": []
  },
  {
   "cell_type": "code",
   "execution_count": null,
   "id": "ccb02829",
   "metadata": {
    "pycharm": {
     "name": "#%%\n"
    }
   },
   "outputs": [],
   "source": []
  }
 ],
 "metadata": {
  "kernelspec": {
   "display_name": "Python 3 (ipykernel)",
   "language": "python",
   "name": "python3"
  },
  "language_info": {
   "codemirror_mode": {
    "name": "ipython",
    "version": 3
   },
   "file_extension": ".py",
   "mimetype": "text/x-python",
   "name": "python",
   "nbconvert_exporter": "python",
   "pygments_lexer": "ipython3",
   "version": "3.11.5"
  }
 },
 "nbformat": 4,
 "nbformat_minor": 5
}